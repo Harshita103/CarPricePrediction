{
  "nbformat": 4,
  "nbformat_minor": 0,
  "metadata": {
    "colab": {
      "name": "VehiclePricePrediction.ipynb",
      "provenance": []
    },
    "kernelspec": {
      "name": "python3",
      "display_name": "Python 3"
    },
    "language_info": {
      "name": "python"
    }
  },
  "cells": [
    {
      "cell_type": "code",
      "metadata": {
        "id": "-deoereO68Fe"
      },
      "source": [
        "import numpy as np\n",
        "import pandas as pd\n",
        "import matplotlib.pyplot as plt\n",
        "import seaborn as sns\n",
        "\n",
        "import math\n",
        "from __future__ import division\n",
        "from scipy.stats import pearsonr\n",
        "from sklearn.linear_model import LinearRegression\n",
        "from sklearn.model_selection import cross_val_score\n",
        "from sklearn.model_selection import cross_validate\n",
        "from sklearn import tree, linear_model\n",
        "from sklearn.model_selection import train_test_split\n",
        "from sklearn.metrics import explained_variance_score"
      ],
      "execution_count": null,
      "outputs": []
    },
    {
      "cell_type": "code",
      "metadata": {
        "id": "a-OkDSHQ8zjp",
        "colab": {
          "base_uri": "https://localhost:8080/",
          "height": 475
        },
        "outputId": "9050e534-1e27-45a2-9bd4-b8f79d280420"
      },
      "source": [
        "df= pd.read_csv('/content/drive/MyDrive/vehicles.csv')\n",
        "df.head()"
      ],
      "execution_count": null,
      "outputs": [
        {
          "output_type": "execute_result",
          "data": {
            "text/html": [
              "<div>\n",
              "<style scoped>\n",
              "    .dataframe tbody tr th:only-of-type {\n",
              "        vertical-align: middle;\n",
              "    }\n",
              "\n",
              "    .dataframe tbody tr th {\n",
              "        vertical-align: top;\n",
              "    }\n",
              "\n",
              "    .dataframe thead th {\n",
              "        text-align: right;\n",
              "    }\n",
              "</style>\n",
              "<table border=\"1\" class=\"dataframe\">\n",
              "  <thead>\n",
              "    <tr style=\"text-align: right;\">\n",
              "      <th></th>\n",
              "      <th>id</th>\n",
              "      <th>url</th>\n",
              "      <th>region</th>\n",
              "      <th>region_url</th>\n",
              "      <th>price</th>\n",
              "      <th>year</th>\n",
              "      <th>manufacturer</th>\n",
              "      <th>model</th>\n",
              "      <th>condition</th>\n",
              "      <th>cylinders</th>\n",
              "      <th>fuel</th>\n",
              "      <th>odometer</th>\n",
              "      <th>title_status</th>\n",
              "      <th>transmission</th>\n",
              "      <th>vin</th>\n",
              "      <th>drive</th>\n",
              "      <th>size</th>\n",
              "      <th>type</th>\n",
              "      <th>paint_color</th>\n",
              "      <th>image_url</th>\n",
              "      <th>description</th>\n",
              "      <th>county</th>\n",
              "      <th>state</th>\n",
              "      <th>lat</th>\n",
              "      <th>long</th>\n",
              "    </tr>\n",
              "  </thead>\n",
              "  <tbody>\n",
              "    <tr>\n",
              "      <th>0</th>\n",
              "      <td>7184791621</td>\n",
              "      <td>https://duluth.craigslist.org/ctd/d/duluth-200...</td>\n",
              "      <td>duluth / superior</td>\n",
              "      <td>https://duluth.craigslist.org</td>\n",
              "      <td>6995</td>\n",
              "      <td>2000.0</td>\n",
              "      <td>gmc</td>\n",
              "      <td>new sierra 1500</td>\n",
              "      <td>excellent</td>\n",
              "      <td>8 cylinders</td>\n",
              "      <td>gas</td>\n",
              "      <td>167783.0</td>\n",
              "      <td>clean</td>\n",
              "      <td>automatic</td>\n",
              "      <td>1GTEK19T3YE366021</td>\n",
              "      <td>4wd</td>\n",
              "      <td>NaN</td>\n",
              "      <td>NaN</td>\n",
              "      <td>red</td>\n",
              "      <td>https://images.craigslist.org/00n0n_f06ykBMcdh...</td>\n",
              "      <td>2000 *** GMC New Sierra 1500 Ext Cab 157.5  WB...</td>\n",
              "      <td>NaN</td>\n",
              "      <td>mn</td>\n",
              "      <td>46.8433</td>\n",
              "      <td>-92.2550</td>\n",
              "    </tr>\n",
              "    <tr>\n",
              "      <th>1</th>\n",
              "      <td>7184773187</td>\n",
              "      <td>https://duluth.craigslist.org/cto/d/saginaw-20...</td>\n",
              "      <td>duluth / superior</td>\n",
              "      <td>https://duluth.craigslist.org</td>\n",
              "      <td>8750</td>\n",
              "      <td>2013.0</td>\n",
              "      <td>hyundai</td>\n",
              "      <td>sonata</td>\n",
              "      <td>excellent</td>\n",
              "      <td>4 cylinders</td>\n",
              "      <td>gas</td>\n",
              "      <td>90821.0</td>\n",
              "      <td>clean</td>\n",
              "      <td>automatic</td>\n",
              "      <td>NaN</td>\n",
              "      <td>fwd</td>\n",
              "      <td>NaN</td>\n",
              "      <td>NaN</td>\n",
              "      <td>grey</td>\n",
              "      <td>https://images.craigslist.org/00d0d_kgZ6xoeRw2...</td>\n",
              "      <td>For Sale:  2013 Hyundai Sonata GLS - $8750.  O...</td>\n",
              "      <td>NaN</td>\n",
              "      <td>mn</td>\n",
              "      <td>46.9074</td>\n",
              "      <td>-92.4638</td>\n",
              "    </tr>\n",
              "    <tr>\n",
              "      <th>2</th>\n",
              "      <td>7193375964</td>\n",
              "      <td>https://newhaven.craigslist.org/cto/d/stratfor...</td>\n",
              "      <td>new haven</td>\n",
              "      <td>https://newhaven.craigslist.org</td>\n",
              "      <td>10900</td>\n",
              "      <td>2013.0</td>\n",
              "      <td>toyota</td>\n",
              "      <td>prius</td>\n",
              "      <td>good</td>\n",
              "      <td>4 cylinders</td>\n",
              "      <td>hybrid</td>\n",
              "      <td>92800.0</td>\n",
              "      <td>clean</td>\n",
              "      <td>automatic</td>\n",
              "      <td>NaN</td>\n",
              "      <td>fwd</td>\n",
              "      <td>NaN</td>\n",
              "      <td>NaN</td>\n",
              "      <td>blue</td>\n",
              "      <td>https://images.craigslist.org/00d0d_3sHGxPbY2O...</td>\n",
              "      <td>2013 Prius V Model Two. One owner—must sell my...</td>\n",
              "      <td>NaN</td>\n",
              "      <td>ct</td>\n",
              "      <td>41.1770</td>\n",
              "      <td>-73.1336</td>\n",
              "    </tr>\n",
              "    <tr>\n",
              "      <th>3</th>\n",
              "      <td>7195108810</td>\n",
              "      <td>https://albuquerque.craigslist.org/cto/d/albuq...</td>\n",
              "      <td>albuquerque</td>\n",
              "      <td>https://albuquerque.craigslist.org</td>\n",
              "      <td>12500</td>\n",
              "      <td>2003.0</td>\n",
              "      <td>mitsubishi</td>\n",
              "      <td>lancer</td>\n",
              "      <td>good</td>\n",
              "      <td>4 cylinders</td>\n",
              "      <td>gas</td>\n",
              "      <td>NaN</td>\n",
              "      <td>clean</td>\n",
              "      <td>manual</td>\n",
              "      <td>NaN</td>\n",
              "      <td>4wd</td>\n",
              "      <td>mid-size</td>\n",
              "      <td>sedan</td>\n",
              "      <td>grey</td>\n",
              "      <td>https://images.craigslist.org/00m0m_4a8Pb6JbMG...</td>\n",
              "      <td>2003 Mitsubishi Lancer Evolution, silver.  Abo...</td>\n",
              "      <td>NaN</td>\n",
              "      <td>nm</td>\n",
              "      <td>35.1868</td>\n",
              "      <td>-106.6650</td>\n",
              "    </tr>\n",
              "    <tr>\n",
              "      <th>4</th>\n",
              "      <td>7184712241</td>\n",
              "      <td>https://duluth.craigslist.org/ctd/d/rush-city-...</td>\n",
              "      <td>duluth / superior</td>\n",
              "      <td>https://duluth.craigslist.org</td>\n",
              "      <td>16995</td>\n",
              "      <td>2007.0</td>\n",
              "      <td>gmc</td>\n",
              "      <td>sierra classic 2500hd</td>\n",
              "      <td>good</td>\n",
              "      <td>8 cylinders</td>\n",
              "      <td>diesel</td>\n",
              "      <td>254217.0</td>\n",
              "      <td>clean</td>\n",
              "      <td>automatic</td>\n",
              "      <td>1GTHK23D57F102022</td>\n",
              "      <td>4wd</td>\n",
              "      <td>full-size</td>\n",
              "      <td>truck</td>\n",
              "      <td>white</td>\n",
              "      <td>https://images.craigslist.org/01414_g093aPtSMW...</td>\n",
              "      <td>**Bad Credit, No Credit... No Problem!**2007 G...</td>\n",
              "      <td>NaN</td>\n",
              "      <td>mn</td>\n",
              "      <td>45.6836</td>\n",
              "      <td>-92.9648</td>\n",
              "    </tr>\n",
              "  </tbody>\n",
              "</table>\n",
              "</div>"
            ],
            "text/plain": [
              "           id  ...      long\n",
              "0  7184791621  ...  -92.2550\n",
              "1  7184773187  ...  -92.4638\n",
              "2  7193375964  ...  -73.1336\n",
              "3  7195108810  ... -106.6650\n",
              "4  7184712241  ...  -92.9648\n",
              "\n",
              "[5 rows x 25 columns]"
            ]
          },
          "metadata": {
            "tags": []
          },
          "execution_count": 58
        }
      ]
    },
    {
      "cell_type": "code",
      "metadata": {
        "id": "Isf-GFJ88zmo",
        "colab": {
          "base_uri": "https://localhost:8080/"
        },
        "outputId": "67ddbc21-d7bd-4802-ad36-792e3ef6c044"
      },
      "source": [
        "df.shape"
      ],
      "execution_count": null,
      "outputs": [
        {
          "output_type": "execute_result",
          "data": {
            "text/plain": [
              "(423857, 25)"
            ]
          },
          "metadata": {
            "tags": []
          },
          "execution_count": 60
        }
      ]
    },
    {
      "cell_type": "code",
      "metadata": {
        "id": "0a9Dj1b_8zox",
        "colab": {
          "base_uri": "https://localhost:8080/"
        },
        "outputId": "5817ddd6-6d27-4110-82d9-a402926e3b29"
      },
      "source": [
        "objcol= df.select_dtypes(['object']).columns\n",
        "objcol"
      ],
      "execution_count": null,
      "outputs": [
        {
          "output_type": "execute_result",
          "data": {
            "text/plain": [
              "Index(['url', 'region', 'region_url', 'manufacturer', 'model', 'condition',\n",
              "       'cylinders', 'fuel', 'title_status', 'transmission', 'vin', 'drive',\n",
              "       'size', 'type', 'paint_color', 'image_url', 'description', 'state'],\n",
              "      dtype='object')"
            ]
          },
          "metadata": {
            "tags": []
          },
          "execution_count": 61
        }
      ]
    },
    {
      "cell_type": "code",
      "metadata": {
        "id": "DA8_tHDq8zq4",
        "colab": {
          "base_uri": "https://localhost:8080/"
        },
        "outputId": "1f6b38b1-3c79-434a-e81f-eef69e469255"
      },
      "source": [
        "# Check any number of columns with NaN\n",
        "print(df.isnull().any().sum(), ' / ', len(df.columns))\n",
        "# Check any number of data points with NaN\n",
        "print(df.isnull().any(axis=1).sum(), ' / ', len(df))"
      ],
      "execution_count": null,
      "outputs": [
        {
          "output_type": "stream",
          "text": [
            "19  /  25\n",
            "423857  /  423857\n"
          ],
          "name": "stdout"
        }
      ]
    },
    {
      "cell_type": "code",
      "metadata": {
        "id": "IE_BVt7C8zt9",
        "colab": {
          "base_uri": "https://localhost:8080/",
          "height": 295
        },
        "outputId": "384a3bfd-07b4-4916-a001-17f84a873366"
      },
      "source": [
        "df.describe()"
      ],
      "execution_count": null,
      "outputs": [
        {
          "output_type": "execute_result",
          "data": {
            "text/html": [
              "<div>\n",
              "<style scoped>\n",
              "    .dataframe tbody tr th:only-of-type {\n",
              "        vertical-align: middle;\n",
              "    }\n",
              "\n",
              "    .dataframe tbody tr th {\n",
              "        vertical-align: top;\n",
              "    }\n",
              "\n",
              "    .dataframe thead th {\n",
              "        text-align: right;\n",
              "    }\n",
              "</style>\n",
              "<table border=\"1\" class=\"dataframe\">\n",
              "  <thead>\n",
              "    <tr style=\"text-align: right;\">\n",
              "      <th></th>\n",
              "      <th>id</th>\n",
              "      <th>price</th>\n",
              "      <th>year</th>\n",
              "      <th>odometer</th>\n",
              "      <th>county</th>\n",
              "      <th>lat</th>\n",
              "      <th>long</th>\n",
              "    </tr>\n",
              "  </thead>\n",
              "  <tbody>\n",
              "    <tr>\n",
              "      <th>count</th>\n",
              "      <td>4.238570e+05</td>\n",
              "      <td>4.238570e+05</td>\n",
              "      <td>328743.000000</td>\n",
              "      <td>2.705850e+05</td>\n",
              "      <td>0.0</td>\n",
              "      <td>324404.000000</td>\n",
              "      <td>324404.000000</td>\n",
              "    </tr>\n",
              "    <tr>\n",
              "      <th>mean</th>\n",
              "      <td>7.190602e+09</td>\n",
              "      <td>5.779437e+04</td>\n",
              "      <td>2009.827358</td>\n",
              "      <td>9.942578e+04</td>\n",
              "      <td>NaN</td>\n",
              "      <td>38.731429</td>\n",
              "      <td>-93.949367</td>\n",
              "    </tr>\n",
              "    <tr>\n",
              "      <th>std</th>\n",
              "      <td>5.159269e+06</td>\n",
              "      <td>1.002581e+07</td>\n",
              "      <td>10.135809</td>\n",
              "      <td>1.204833e+05</td>\n",
              "      <td>NaN</td>\n",
              "      <td>5.902977</td>\n",
              "      <td>17.930566</td>\n",
              "    </tr>\n",
              "    <tr>\n",
              "      <th>min</th>\n",
              "      <td>7.178302e+09</td>\n",
              "      <td>0.000000e+00</td>\n",
              "      <td>1900.000000</td>\n",
              "      <td>0.000000e+00</td>\n",
              "      <td>NaN</td>\n",
              "      <td>-80.386400</td>\n",
              "      <td>-161.394000</td>\n",
              "    </tr>\n",
              "    <tr>\n",
              "      <th>25%</th>\n",
              "      <td>7.186688e+09</td>\n",
              "      <td>4.499000e+03</td>\n",
              "      <td>2007.000000</td>\n",
              "      <td>4.432400e+04</td>\n",
              "      <td>NaN</td>\n",
              "      <td>35.054500</td>\n",
              "      <td>-106.678000</td>\n",
              "    </tr>\n",
              "    <tr>\n",
              "      <th>50%</th>\n",
              "      <td>7.192068e+09</td>\n",
              "      <td>9.995000e+03</td>\n",
              "      <td>2012.000000</td>\n",
              "      <td>9.174900e+04</td>\n",
              "      <td>NaN</td>\n",
              "      <td>39.366900</td>\n",
              "      <td>-88.009900</td>\n",
              "    </tr>\n",
              "    <tr>\n",
              "      <th>75%</th>\n",
              "      <td>7.194909e+09</td>\n",
              "      <td>1.899500e+04</td>\n",
              "      <td>2016.000000</td>\n",
              "      <td>1.372370e+05</td>\n",
              "      <td>NaN</td>\n",
              "      <td>42.517075</td>\n",
              "      <td>-80.832500</td>\n",
              "    </tr>\n",
              "    <tr>\n",
              "      <th>max</th>\n",
              "      <td>7.197006e+09</td>\n",
              "      <td>3.808256e+09</td>\n",
              "      <td>2021.000000</td>\n",
              "      <td>1.000000e+07</td>\n",
              "      <td>NaN</td>\n",
              "      <td>80.383400</td>\n",
              "      <td>115.524000</td>\n",
              "    </tr>\n",
              "  </tbody>\n",
              "</table>\n",
              "</div>"
            ],
            "text/plain": [
              "                 id         price  ...            lat           long\n",
              "count  4.238570e+05  4.238570e+05  ...  324404.000000  324404.000000\n",
              "mean   7.190602e+09  5.779437e+04  ...      38.731429     -93.949367\n",
              "std    5.159269e+06  1.002581e+07  ...       5.902977      17.930566\n",
              "min    7.178302e+09  0.000000e+00  ...     -80.386400    -161.394000\n",
              "25%    7.186688e+09  4.499000e+03  ...      35.054500    -106.678000\n",
              "50%    7.192068e+09  9.995000e+03  ...      39.366900     -88.009900\n",
              "75%    7.194909e+09  1.899500e+04  ...      42.517075     -80.832500\n",
              "max    7.197006e+09  3.808256e+09  ...      80.383400     115.524000\n",
              "\n",
              "[8 rows x 7 columns]"
            ]
          },
          "metadata": {
            "tags": []
          },
          "execution_count": 63
        }
      ]
    },
    {
      "cell_type": "code",
      "metadata": {
        "colab": {
          "base_uri": "https://localhost:8080/",
          "height": 475
        },
        "id": "20Kva2VTEITJ",
        "outputId": "dcfd8356-b727-4ea2-bc14-07356b1463d7"
      },
      "source": [
        "df.head()"
      ],
      "execution_count": null,
      "outputs": [
        {
          "output_type": "execute_result",
          "data": {
            "text/html": [
              "<div>\n",
              "<style scoped>\n",
              "    .dataframe tbody tr th:only-of-type {\n",
              "        vertical-align: middle;\n",
              "    }\n",
              "\n",
              "    .dataframe tbody tr th {\n",
              "        vertical-align: top;\n",
              "    }\n",
              "\n",
              "    .dataframe thead th {\n",
              "        text-align: right;\n",
              "    }\n",
              "</style>\n",
              "<table border=\"1\" class=\"dataframe\">\n",
              "  <thead>\n",
              "    <tr style=\"text-align: right;\">\n",
              "      <th></th>\n",
              "      <th>id</th>\n",
              "      <th>url</th>\n",
              "      <th>region</th>\n",
              "      <th>region_url</th>\n",
              "      <th>price</th>\n",
              "      <th>year</th>\n",
              "      <th>manufacturer</th>\n",
              "      <th>model</th>\n",
              "      <th>condition</th>\n",
              "      <th>cylinders</th>\n",
              "      <th>fuel</th>\n",
              "      <th>odometer</th>\n",
              "      <th>title_status</th>\n",
              "      <th>transmission</th>\n",
              "      <th>vin</th>\n",
              "      <th>drive</th>\n",
              "      <th>size</th>\n",
              "      <th>type</th>\n",
              "      <th>paint_color</th>\n",
              "      <th>image_url</th>\n",
              "      <th>description</th>\n",
              "      <th>county</th>\n",
              "      <th>state</th>\n",
              "      <th>lat</th>\n",
              "      <th>long</th>\n",
              "    </tr>\n",
              "  </thead>\n",
              "  <tbody>\n",
              "    <tr>\n",
              "      <th>0</th>\n",
              "      <td>7184791621</td>\n",
              "      <td>https://duluth.craigslist.org/ctd/d/duluth-200...</td>\n",
              "      <td>duluth / superior</td>\n",
              "      <td>https://duluth.craigslist.org</td>\n",
              "      <td>6995</td>\n",
              "      <td>2000.0</td>\n",
              "      <td>gmc</td>\n",
              "      <td>new sierra 1500</td>\n",
              "      <td>excellent</td>\n",
              "      <td>8 cylinders</td>\n",
              "      <td>gas</td>\n",
              "      <td>167783.0</td>\n",
              "      <td>clean</td>\n",
              "      <td>automatic</td>\n",
              "      <td>1GTEK19T3YE366021</td>\n",
              "      <td>4wd</td>\n",
              "      <td>NaN</td>\n",
              "      <td>NaN</td>\n",
              "      <td>red</td>\n",
              "      <td>https://images.craigslist.org/00n0n_f06ykBMcdh...</td>\n",
              "      <td>2000 *** GMC New Sierra 1500 Ext Cab 157.5  WB...</td>\n",
              "      <td>NaN</td>\n",
              "      <td>mn</td>\n",
              "      <td>46.8433</td>\n",
              "      <td>-92.2550</td>\n",
              "    </tr>\n",
              "    <tr>\n",
              "      <th>1</th>\n",
              "      <td>7184773187</td>\n",
              "      <td>https://duluth.craigslist.org/cto/d/saginaw-20...</td>\n",
              "      <td>duluth / superior</td>\n",
              "      <td>https://duluth.craigslist.org</td>\n",
              "      <td>8750</td>\n",
              "      <td>2013.0</td>\n",
              "      <td>hyundai</td>\n",
              "      <td>sonata</td>\n",
              "      <td>excellent</td>\n",
              "      <td>4 cylinders</td>\n",
              "      <td>gas</td>\n",
              "      <td>90821.0</td>\n",
              "      <td>clean</td>\n",
              "      <td>automatic</td>\n",
              "      <td>NaN</td>\n",
              "      <td>fwd</td>\n",
              "      <td>NaN</td>\n",
              "      <td>NaN</td>\n",
              "      <td>grey</td>\n",
              "      <td>https://images.craigslist.org/00d0d_kgZ6xoeRw2...</td>\n",
              "      <td>For Sale:  2013 Hyundai Sonata GLS - $8750.  O...</td>\n",
              "      <td>NaN</td>\n",
              "      <td>mn</td>\n",
              "      <td>46.9074</td>\n",
              "      <td>-92.4638</td>\n",
              "    </tr>\n",
              "    <tr>\n",
              "      <th>2</th>\n",
              "      <td>7193375964</td>\n",
              "      <td>https://newhaven.craigslist.org/cto/d/stratfor...</td>\n",
              "      <td>new haven</td>\n",
              "      <td>https://newhaven.craigslist.org</td>\n",
              "      <td>10900</td>\n",
              "      <td>2013.0</td>\n",
              "      <td>toyota</td>\n",
              "      <td>prius</td>\n",
              "      <td>good</td>\n",
              "      <td>4 cylinders</td>\n",
              "      <td>hybrid</td>\n",
              "      <td>92800.0</td>\n",
              "      <td>clean</td>\n",
              "      <td>automatic</td>\n",
              "      <td>NaN</td>\n",
              "      <td>fwd</td>\n",
              "      <td>NaN</td>\n",
              "      <td>NaN</td>\n",
              "      <td>blue</td>\n",
              "      <td>https://images.craigslist.org/00d0d_3sHGxPbY2O...</td>\n",
              "      <td>2013 Prius V Model Two. One owner—must sell my...</td>\n",
              "      <td>NaN</td>\n",
              "      <td>ct</td>\n",
              "      <td>41.1770</td>\n",
              "      <td>-73.1336</td>\n",
              "    </tr>\n",
              "    <tr>\n",
              "      <th>3</th>\n",
              "      <td>7195108810</td>\n",
              "      <td>https://albuquerque.craigslist.org/cto/d/albuq...</td>\n",
              "      <td>albuquerque</td>\n",
              "      <td>https://albuquerque.craigslist.org</td>\n",
              "      <td>12500</td>\n",
              "      <td>2003.0</td>\n",
              "      <td>mitsubishi</td>\n",
              "      <td>lancer</td>\n",
              "      <td>good</td>\n",
              "      <td>4 cylinders</td>\n",
              "      <td>gas</td>\n",
              "      <td>NaN</td>\n",
              "      <td>clean</td>\n",
              "      <td>manual</td>\n",
              "      <td>NaN</td>\n",
              "      <td>4wd</td>\n",
              "      <td>mid-size</td>\n",
              "      <td>sedan</td>\n",
              "      <td>grey</td>\n",
              "      <td>https://images.craigslist.org/00m0m_4a8Pb6JbMG...</td>\n",
              "      <td>2003 Mitsubishi Lancer Evolution, silver.  Abo...</td>\n",
              "      <td>NaN</td>\n",
              "      <td>nm</td>\n",
              "      <td>35.1868</td>\n",
              "      <td>-106.6650</td>\n",
              "    </tr>\n",
              "    <tr>\n",
              "      <th>4</th>\n",
              "      <td>7184712241</td>\n",
              "      <td>https://duluth.craigslist.org/ctd/d/rush-city-...</td>\n",
              "      <td>duluth / superior</td>\n",
              "      <td>https://duluth.craigslist.org</td>\n",
              "      <td>16995</td>\n",
              "      <td>2007.0</td>\n",
              "      <td>gmc</td>\n",
              "      <td>sierra classic 2500hd</td>\n",
              "      <td>good</td>\n",
              "      <td>8 cylinders</td>\n",
              "      <td>diesel</td>\n",
              "      <td>254217.0</td>\n",
              "      <td>clean</td>\n",
              "      <td>automatic</td>\n",
              "      <td>1GTHK23D57F102022</td>\n",
              "      <td>4wd</td>\n",
              "      <td>full-size</td>\n",
              "      <td>truck</td>\n",
              "      <td>white</td>\n",
              "      <td>https://images.craigslist.org/01414_g093aPtSMW...</td>\n",
              "      <td>**Bad Credit, No Credit... No Problem!**2007 G...</td>\n",
              "      <td>NaN</td>\n",
              "      <td>mn</td>\n",
              "      <td>45.6836</td>\n",
              "      <td>-92.9648</td>\n",
              "    </tr>\n",
              "  </tbody>\n",
              "</table>\n",
              "</div>"
            ],
            "text/plain": [
              "           id  ...      long\n",
              "0  7184791621  ...  -92.2550\n",
              "1  7184773187  ...  -92.4638\n",
              "2  7193375964  ...  -73.1336\n",
              "3  7195108810  ... -106.6650\n",
              "4  7184712241  ...  -92.9648\n",
              "\n",
              "[5 rows x 25 columns]"
            ]
          },
          "metadata": {
            "tags": []
          },
          "execution_count": 64
        }
      ]
    },
    {
      "cell_type": "code",
      "metadata": {
        "id": "LlnNRq2g8zw0",
        "colab": {
          "base_uri": "https://localhost:8080/",
          "height": 287
        },
        "outputId": "b55e0e98-e2db-403d-ffba-7cdee7995726"
      },
      "source": [
        "df=df.drop(['id', 'url', 'region_url', 'image_url', 'county', 'vin', 'region', 'description', 'lat', 'long'], axis=1)\n",
        "df.head()"
      ],
      "execution_count": null,
      "outputs": [
        {
          "output_type": "execute_result",
          "data": {
            "text/html": [
              "<div>\n",
              "<style scoped>\n",
              "    .dataframe tbody tr th:only-of-type {\n",
              "        vertical-align: middle;\n",
              "    }\n",
              "\n",
              "    .dataframe tbody tr th {\n",
              "        vertical-align: top;\n",
              "    }\n",
              "\n",
              "    .dataframe thead th {\n",
              "        text-align: right;\n",
              "    }\n",
              "</style>\n",
              "<table border=\"1\" class=\"dataframe\">\n",
              "  <thead>\n",
              "    <tr style=\"text-align: right;\">\n",
              "      <th></th>\n",
              "      <th>price</th>\n",
              "      <th>year</th>\n",
              "      <th>manufacturer</th>\n",
              "      <th>model</th>\n",
              "      <th>condition</th>\n",
              "      <th>cylinders</th>\n",
              "      <th>fuel</th>\n",
              "      <th>odometer</th>\n",
              "      <th>title_status</th>\n",
              "      <th>transmission</th>\n",
              "      <th>drive</th>\n",
              "      <th>size</th>\n",
              "      <th>type</th>\n",
              "      <th>paint_color</th>\n",
              "      <th>state</th>\n",
              "    </tr>\n",
              "  </thead>\n",
              "  <tbody>\n",
              "    <tr>\n",
              "      <th>0</th>\n",
              "      <td>6995</td>\n",
              "      <td>2000.0</td>\n",
              "      <td>gmc</td>\n",
              "      <td>new sierra 1500</td>\n",
              "      <td>excellent</td>\n",
              "      <td>8 cylinders</td>\n",
              "      <td>gas</td>\n",
              "      <td>167783.0</td>\n",
              "      <td>clean</td>\n",
              "      <td>automatic</td>\n",
              "      <td>4wd</td>\n",
              "      <td>NaN</td>\n",
              "      <td>NaN</td>\n",
              "      <td>red</td>\n",
              "      <td>mn</td>\n",
              "    </tr>\n",
              "    <tr>\n",
              "      <th>1</th>\n",
              "      <td>8750</td>\n",
              "      <td>2013.0</td>\n",
              "      <td>hyundai</td>\n",
              "      <td>sonata</td>\n",
              "      <td>excellent</td>\n",
              "      <td>4 cylinders</td>\n",
              "      <td>gas</td>\n",
              "      <td>90821.0</td>\n",
              "      <td>clean</td>\n",
              "      <td>automatic</td>\n",
              "      <td>fwd</td>\n",
              "      <td>NaN</td>\n",
              "      <td>NaN</td>\n",
              "      <td>grey</td>\n",
              "      <td>mn</td>\n",
              "    </tr>\n",
              "    <tr>\n",
              "      <th>2</th>\n",
              "      <td>10900</td>\n",
              "      <td>2013.0</td>\n",
              "      <td>toyota</td>\n",
              "      <td>prius</td>\n",
              "      <td>good</td>\n",
              "      <td>4 cylinders</td>\n",
              "      <td>hybrid</td>\n",
              "      <td>92800.0</td>\n",
              "      <td>clean</td>\n",
              "      <td>automatic</td>\n",
              "      <td>fwd</td>\n",
              "      <td>NaN</td>\n",
              "      <td>NaN</td>\n",
              "      <td>blue</td>\n",
              "      <td>ct</td>\n",
              "    </tr>\n",
              "    <tr>\n",
              "      <th>3</th>\n",
              "      <td>12500</td>\n",
              "      <td>2003.0</td>\n",
              "      <td>mitsubishi</td>\n",
              "      <td>lancer</td>\n",
              "      <td>good</td>\n",
              "      <td>4 cylinders</td>\n",
              "      <td>gas</td>\n",
              "      <td>NaN</td>\n",
              "      <td>clean</td>\n",
              "      <td>manual</td>\n",
              "      <td>4wd</td>\n",
              "      <td>mid-size</td>\n",
              "      <td>sedan</td>\n",
              "      <td>grey</td>\n",
              "      <td>nm</td>\n",
              "    </tr>\n",
              "    <tr>\n",
              "      <th>4</th>\n",
              "      <td>16995</td>\n",
              "      <td>2007.0</td>\n",
              "      <td>gmc</td>\n",
              "      <td>sierra classic 2500hd</td>\n",
              "      <td>good</td>\n",
              "      <td>8 cylinders</td>\n",
              "      <td>diesel</td>\n",
              "      <td>254217.0</td>\n",
              "      <td>clean</td>\n",
              "      <td>automatic</td>\n",
              "      <td>4wd</td>\n",
              "      <td>full-size</td>\n",
              "      <td>truck</td>\n",
              "      <td>white</td>\n",
              "      <td>mn</td>\n",
              "    </tr>\n",
              "  </tbody>\n",
              "</table>\n",
              "</div>"
            ],
            "text/plain": [
              "   price    year manufacturer  ...   type paint_color state\n",
              "0   6995  2000.0          gmc  ...    NaN         red    mn\n",
              "1   8750  2013.0      hyundai  ...    NaN        grey    mn\n",
              "2  10900  2013.0       toyota  ...    NaN        blue    ct\n",
              "3  12500  2003.0   mitsubishi  ...  sedan        grey    nm\n",
              "4  16995  2007.0          gmc  ...  truck       white    mn\n",
              "\n",
              "[5 rows x 15 columns]"
            ]
          },
          "metadata": {
            "tags": []
          },
          "execution_count": 65
        }
      ]
    },
    {
      "cell_type": "code",
      "metadata": {
        "colab": {
          "base_uri": "https://localhost:8080/"
        },
        "id": "tX1EoPPGb-95",
        "outputId": "0a200116-42a4-44ec-b095-06ab952bd0e2"
      },
      "source": [
        "df.shape"
      ],
      "execution_count": null,
      "outputs": [
        {
          "output_type": "execute_result",
          "data": {
            "text/plain": [
              "(423857, 15)"
            ]
          },
          "metadata": {
            "tags": []
          },
          "execution_count": 66
        }
      ]
    },
    {
      "cell_type": "code",
      "metadata": {
        "colab": {
          "base_uri": "https://localhost:8080/"
        },
        "id": "6dTYPVBID5q-",
        "outputId": "6be12198-12c7-4159-f662-45de3f2e735d"
      },
      "source": [
        "# Check any number of columns with NaN\n",
        "print(df.isnull().any().sum(), ' / ', len(df.columns))\n",
        "# Check any number of data points with NaN\n",
        "print(df.isnull().any(axis=1).sum(), ' / ', len(df))"
      ],
      "execution_count": null,
      "outputs": [
        {
          "output_type": "stream",
          "text": [
            "13  /  15\n",
            "361915  /  423857\n"
          ],
          "name": "stdout"
        }
      ]
    },
    {
      "cell_type": "code",
      "metadata": {
        "id": "8N4Thaj1D5tN"
      },
      "source": [
        "cols_with_missing = [col for col in df.columns\n",
        "                     if df[col].isnull().any()]"
      ],
      "execution_count": null,
      "outputs": []
    },
    {
      "cell_type": "code",
      "metadata": {
        "colab": {
          "base_uri": "https://localhost:8080/"
        },
        "id": "8BFfEaCvHp8e",
        "outputId": "b6b126bb-165e-477f-d973-ef665b1b18a1"
      },
      "source": [
        "cols_with_missing"
      ],
      "execution_count": null,
      "outputs": [
        {
          "output_type": "execute_result",
          "data": {
            "text/plain": [
              "['year',\n",
              " 'manufacturer',\n",
              " 'model',\n",
              " 'condition',\n",
              " 'cylinders',\n",
              " 'fuel',\n",
              " 'odometer',\n",
              " 'title_status',\n",
              " 'transmission',\n",
              " 'drive',\n",
              " 'size',\n",
              " 'type',\n",
              " 'paint_color']"
            ]
          },
          "metadata": {
            "tags": []
          },
          "execution_count": 69
        }
      ]
    },
    {
      "cell_type": "code",
      "metadata": {
        "colab": {
          "base_uri": "https://localhost:8080/"
        },
        "id": "2wUas5DQHp_H",
        "outputId": "fbf2d8d8-b42e-48d3-abd1-74383631a481"
      },
      "source": [
        "obj=df.select_dtypes(['object']).columns\n",
        "obj"
      ],
      "execution_count": null,
      "outputs": [
        {
          "output_type": "execute_result",
          "data": {
            "text/plain": [
              "Index(['manufacturer', 'model', 'condition', 'cylinders', 'fuel',\n",
              "       'title_status', 'transmission', 'drive', 'size', 'type', 'paint_color',\n",
              "       'state'],\n",
              "      dtype='object')"
            ]
          },
          "metadata": {
            "tags": []
          },
          "execution_count": 70
        }
      ]
    },
    {
      "cell_type": "code",
      "metadata": {
        "colab": {
          "base_uri": "https://localhost:8080/",
          "height": 295
        },
        "id": "siHdrwMBHqBO",
        "outputId": "dbea6a4b-bc25-42cb-f7d8-1eb10f1557ca"
      },
      "source": [
        "df.describe()"
      ],
      "execution_count": null,
      "outputs": [
        {
          "output_type": "execute_result",
          "data": {
            "text/html": [
              "<div>\n",
              "<style scoped>\n",
              "    .dataframe tbody tr th:only-of-type {\n",
              "        vertical-align: middle;\n",
              "    }\n",
              "\n",
              "    .dataframe tbody tr th {\n",
              "        vertical-align: top;\n",
              "    }\n",
              "\n",
              "    .dataframe thead th {\n",
              "        text-align: right;\n",
              "    }\n",
              "</style>\n",
              "<table border=\"1\" class=\"dataframe\">\n",
              "  <thead>\n",
              "    <tr style=\"text-align: right;\">\n",
              "      <th></th>\n",
              "      <th>price</th>\n",
              "      <th>year</th>\n",
              "      <th>odometer</th>\n",
              "    </tr>\n",
              "  </thead>\n",
              "  <tbody>\n",
              "    <tr>\n",
              "      <th>count</th>\n",
              "      <td>4.238570e+05</td>\n",
              "      <td>328743.000000</td>\n",
              "      <td>2.705850e+05</td>\n",
              "    </tr>\n",
              "    <tr>\n",
              "      <th>mean</th>\n",
              "      <td>5.779437e+04</td>\n",
              "      <td>2009.827358</td>\n",
              "      <td>9.942578e+04</td>\n",
              "    </tr>\n",
              "    <tr>\n",
              "      <th>std</th>\n",
              "      <td>1.002581e+07</td>\n",
              "      <td>10.135809</td>\n",
              "      <td>1.204833e+05</td>\n",
              "    </tr>\n",
              "    <tr>\n",
              "      <th>min</th>\n",
              "      <td>0.000000e+00</td>\n",
              "      <td>1900.000000</td>\n",
              "      <td>0.000000e+00</td>\n",
              "    </tr>\n",
              "    <tr>\n",
              "      <th>25%</th>\n",
              "      <td>4.499000e+03</td>\n",
              "      <td>2007.000000</td>\n",
              "      <td>4.432400e+04</td>\n",
              "    </tr>\n",
              "    <tr>\n",
              "      <th>50%</th>\n",
              "      <td>9.995000e+03</td>\n",
              "      <td>2012.000000</td>\n",
              "      <td>9.174900e+04</td>\n",
              "    </tr>\n",
              "    <tr>\n",
              "      <th>75%</th>\n",
              "      <td>1.899500e+04</td>\n",
              "      <td>2016.000000</td>\n",
              "      <td>1.372370e+05</td>\n",
              "    </tr>\n",
              "    <tr>\n",
              "      <th>max</th>\n",
              "      <td>3.808256e+09</td>\n",
              "      <td>2021.000000</td>\n",
              "      <td>1.000000e+07</td>\n",
              "    </tr>\n",
              "  </tbody>\n",
              "</table>\n",
              "</div>"
            ],
            "text/plain": [
              "              price           year      odometer\n",
              "count  4.238570e+05  328743.000000  2.705850e+05\n",
              "mean   5.779437e+04    2009.827358  9.942578e+04\n",
              "std    1.002581e+07      10.135809  1.204833e+05\n",
              "min    0.000000e+00    1900.000000  0.000000e+00\n",
              "25%    4.499000e+03    2007.000000  4.432400e+04\n",
              "50%    9.995000e+03    2012.000000  9.174900e+04\n",
              "75%    1.899500e+04    2016.000000  1.372370e+05\n",
              "max    3.808256e+09    2021.000000  1.000000e+07"
            ]
          },
          "metadata": {
            "tags": []
          },
          "execution_count": 71
        }
      ]
    },
    {
      "cell_type": "code",
      "metadata": {
        "id": "N4dZQGj-HqDT"
      },
      "source": [
        "## check for outliers in price column\n",
        "\n",
        "rr=sorted(df[\"price\"])\n",
        "\n"
      ],
      "execution_count": null,
      "outputs": []
    },
    {
      "cell_type": "code",
      "metadata": {
        "id": "OWQKWrekV9gU"
      },
      "source": [
        "Q1 = df.quantile(0.10)\n",
        "Q3 = df.quantile(0.90)\n"
      ],
      "execution_count": null,
      "outputs": []
    },
    {
      "cell_type": "code",
      "metadata": {
        "colab": {
          "base_uri": "https://localhost:8080/"
        },
        "id": "Cy0q3WkiZnaj",
        "outputId": "18895bf2-b66f-4f5a-c9a8-a018240ba890"
      },
      "source": [
        "Q1"
      ],
      "execution_count": null,
      "outputs": [
        {
          "output_type": "execute_result",
          "data": {
            "text/plain": [
              "price         389.6\n",
              "year         2002.0\n",
              "odometer    20292.0\n",
              "Name: 0.1, dtype: float64"
            ]
          },
          "metadata": {
            "tags": []
          },
          "execution_count": 74
        }
      ]
    },
    {
      "cell_type": "code",
      "metadata": {
        "colab": {
          "base_uri": "https://localhost:8080/"
        },
        "id": "OxU1JjfzZtK4",
        "outputId": "70ee8947-e966-460b-9dc9-473bb5c4d69d"
      },
      "source": [
        "Q3"
      ],
      "execution_count": null,
      "outputs": [
        {
          "output_type": "execute_result",
          "data": {
            "text/plain": [
              "price        31500.0\n",
              "year          2018.0\n",
              "odometer    179744.0\n",
              "Name: 0.9, dtype: float64"
            ]
          },
          "metadata": {
            "tags": []
          },
          "execution_count": 75
        }
      ]
    },
    {
      "cell_type": "code",
      "metadata": {
        "colab": {
          "base_uri": "https://localhost:8080/"
        },
        "id": "W2OVz1cGHqGx",
        "outputId": "71cbb0ab-1f2e-48e4-8c0f-cdfbac54498c"
      },
      "source": [
        "df=df[((df.price >= 389.6) & (df.price < 31500.0))]\n",
        "df.shape"
      ],
      "execution_count": null,
      "outputs": [
        {
          "output_type": "execute_result",
          "data": {
            "text/plain": [
              "(339073, 15)"
            ]
          },
          "metadata": {
            "tags": []
          },
          "execution_count": 76
        }
      ]
    },
    {
      "cell_type": "code",
      "metadata": {
        "colab": {
          "base_uri": "https://localhost:8080/"
        },
        "id": "uo9l1iNnZiV5",
        "outputId": "263c2ca2-a369-49f4-f21c-59f63ad5fc7e"
      },
      "source": [
        "o=sorted(df[\"odometer\"])\n",
        "o"
      ],
      "execution_count": null,
      "outputs": [
        {
          "output_type": "execute_result",
          "data": {
            "text/plain": [
              "[23772.0,\n",
              " 45431.0,\n",
              " 48932.0,\n",
              " 49858.0,\n",
              " 76202.0,\n",
              " 86942.0,\n",
              " 88000.0,\n",
              " 90112.0,\n",
              " 90821.0,\n",
              " 92800.0,\n",
              " 102000.0,\n",
              " 102462.0,\n",
              " 103000.0,\n",
              " 113000.0,\n",
              " 116711.0,\n",
              " 128000.0,\n",
              " 143528.0,\n",
              " 150959.0,\n",
              " 167783.0,\n",
              " nan,\n",
              " 108124.0,\n",
              " 125000.0,\n",
              " 152415.0,\n",
              " 159000.0,\n",
              " 160600.0,\n",
              " 170259.0,\n",
              " 170684.0,\n",
              " 178054.0,\n",
              " 188406.0,\n",
              " 196913.0,\n",
              " 208016.0,\n",
              " 210865.0,\n",
              " 223470.0,\n",
              " 254217.0,\n",
              " 271000.0,\n",
              " 309621.0,\n",
              " nan,\n",
              " nan,\n",
              " nan,\n",
              " 299000.0,\n",
              " nan,\n",
              " nan,\n",
              " 8000.0,\n",
              " 15878.0,\n",
              " 17182.0,\n",
              " 36000.0,\n",
              " 52103.0,\n",
              " 53300.0,\n",
              " 62000.0,\n",
              " 65000.0,\n",
              " 68559.0,\n",
              " 82000.0,\n",
              " 91806.0,\n",
              " 94448.0,\n",
              " 100460.0,\n",
              " 130000.0,\n",
              " 143700.0,\n",
              " 156559.0,\n",
              " 167828.0,\n",
              " 176000.0,\n",
              " 204496.0,\n",
              " 229937.0,\n",
              " nan,\n",
              " 110000.0,\n",
              " 186200.0,\n",
              " 208453.0,\n",
              " 225858.0,\n",
              " 230500.0,\n",
              " 242613.0,\n",
              " 262000.0,\n",
              " nan,\n",
              " nan,\n",
              " nan,\n",
              " nan,\n",
              " nan,\n",
              " nan,\n",
              " nan,\n",
              " nan,\n",
              " nan,\n",
              " 85000.0,\n",
              " nan,\n",
              " 196000.0,\n",
              " 260607.0,\n",
              " nan,\n",
              " 500.0,\n",
              " 15414.0,\n",
              " 38000.0,\n",
              " 50000.0,\n",
              " 56289.0,\n",
              " 58764.0,\n",
              " 63000.0,\n",
              " 64596.0,\n",
              " 73000.0,\n",
              " 76164.0,\n",
              " 85122.0,\n",
              " 85556.0,\n",
              " 87000.0,\n",
              " 87742.0,\n",
              " 92000.0,\n",
              " 104897.0,\n",
              " 104898.0,\n",
              " 105000.0,\n",
              " 105880.0,\n",
              " 108869.0,\n",
              " 115000.0,\n",
              " 116751.0,\n",
              " 119592.0,\n",
              " 123000.0,\n",
              " 125147.0,\n",
              " 148212.0,\n",
              " 152000.0,\n",
              " 153000.0,\n",
              " 158000.0,\n",
              " 160025.0,\n",
              " 165000.0,\n",
              " 179804.0,\n",
              " 192420.0,\n",
              " nan,\n",
              " nan,\n",
              " 216800.0,\n",
              " nan,\n",
              " 165000.0,\n",
              " 193000.0,\n",
              " nan,\n",
              " nan,\n",
              " nan,\n",
              " 35224.0,\n",
              " 40629.0,\n",
              " 50273.0,\n",
              " 82740.0,\n",
              " 103000.0,\n",
              " 105000.0,\n",
              " 113400.0,\n",
              " 124000.0,\n",
              " 140000.0,\n",
              " 141118.0,\n",
              " 144000.0,\n",
              " 152000.0,\n",
              " 192000.0,\n",
              " 195413.0,\n",
              " nan,\n",
              " nan,\n",
              " nan,\n",
              " 111563.0,\n",
              " 145955.0,\n",
              " 147893.0,\n",
              " 155000.0,\n",
              " 158000.0,\n",
              " 195756.0,\n",
              " 251000.0,\n",
              " nan,\n",
              " 210000.0,\n",
              " nan,\n",
              " nan,\n",
              " 144263.0,\n",
              " nan,\n",
              " nan,\n",
              " nan,\n",
              " 168000.0,\n",
              " 172000.0,\n",
              " 250000.0,\n",
              " nan,\n",
              " 181000.0,\n",
              " 187000.0,\n",
              " 223000.0,\n",
              " 238000.0,\n",
              " 319000.0,\n",
              " nan,\n",
              " 142055.0,\n",
              " 142763.0,\n",
              " 170623.0,\n",
              " nan,\n",
              " nan,\n",
              " nan,\n",
              " 1699.0,\n",
              " 6988.0,\n",
              " 13479.0,\n",
              " 22289.0,\n",
              " 27000.0,\n",
              " 28269.0,\n",
              " 32428.0,\n",
              " 40533.0,\n",
              " 50776.0,\n",
              " 53646.0,\n",
              " 66782.0,\n",
              " 73766.0,\n",
              " 74273.0,\n",
              " 74408.0,\n",
              " 78507.0,\n",
              " 79091.0,\n",
              " 80242.0,\n",
              " 86643.0,\n",
              " 90822.0,\n",
              " 93559.0,\n",
              " 102783.0,\n",
              " 104033.0,\n",
              " 109527.0,\n",
              " 110346.0,\n",
              " 119598.0,\n",
              " 120940.0,\n",
              " 130348.0,\n",
              " 131164.0,\n",
              " 145996.0,\n",
              " 146660.0,\n",
              " 176580.0,\n",
              " nan,\n",
              " 32276.0,\n",
              " 40234.0,\n",
              " 43400.0,\n",
              " 48900.0,\n",
              " 51636.0,\n",
              " 55268.0,\n",
              " 58112.0,\n",
              " 67000.0,\n",
              " 71416.0,\n",
              " 75771.0,\n",
              " 77000.0,\n",
              " 78289.0,\n",
              " 79198.0,\n",
              " 79639.0,\n",
              " 80566.0,\n",
              " 84411.0,\n",
              " 93060.0,\n",
              " 96000.0,\n",
              " 97540.0,\n",
              " 99898.0,\n",
              " 103369.0,\n",
              " 110000.0,\n",
              " 110400.0,\n",
              " 112103.0,\n",
              " 112447.0,\n",
              " 116022.0,\n",
              " 120000.0,\n",
              " 127411.0,\n",
              " 134177.0,\n",
              " 150778.0,\n",
              " 152000.0,\n",
              " 160000.0,\n",
              " 161201.0,\n",
              " 178318.0,\n",
              " 179000.0,\n",
              " 185423.0,\n",
              " 187867.0,\n",
              " 196611.0,\n",
              " 198117.0,\n",
              " 198334.0,\n",
              " nan,\n",
              " nan,\n",
              " nan,\n",
              " nan,\n",
              " nan,\n",
              " nan,\n",
              " 19734.0,\n",
              " 21449.0,\n",
              " 35677.0,\n",
              " 37885.0,\n",
              " 43961.0,\n",
              " 54062.0,\n",
              " 66850.0,\n",
              " 72530.0,\n",
              " 77945.0,\n",
              " 100761.0,\n",
              " 105000.0,\n",
              " 109210.0,\n",
              " 122269.0,\n",
              " 126000.0,\n",
              " 132000.0,\n",
              " 133000.0,\n",
              " 134000.0,\n",
              " 134041.0,\n",
              " 138000.0,\n",
              " 149273.0,\n",
              " 151000.0,\n",
              " 154025.0,\n",
              " 159147.0,\n",
              " 161776.0,\n",
              " 164030.0,\n",
              " 179856.0,\n",
              " nan,\n",
              " 178000.0,\n",
              " nan,\n",
              " nan,\n",
              " nan,\n",
              " nan,\n",
              " nan,\n",
              " nan,\n",
              " 220000.0,\n",
              " nan,\n",
              " nan,\n",
              " nan,\n",
              " nan,\n",
              " 179942.0,\n",
              " 290000.0,\n",
              " nan,\n",
              " 113000.0,\n",
              " nan,\n",
              " 13848.0,\n",
              " 21800.0,\n",
              " 24000.0,\n",
              " 46145.0,\n",
              " 47055.0,\n",
              " 65748.0,\n",
              " 84550.0,\n",
              " 90261.0,\n",
              " 91001.0,\n",
              " 93988.0,\n",
              " 95000.0,\n",
              " 97426.0,\n",
              " 100694.0,\n",
              " 102000.0,\n",
              " 102830.0,\n",
              " 103240.0,\n",
              " 103600.0,\n",
              " 105311.0,\n",
              " 110380.0,\n",
              " 113000.0,\n",
              " 116435.0,\n",
              " 118587.0,\n",
              " 121365.0,\n",
              " 128929.0,\n",
              " 141690.0,\n",
              " 145155.0,\n",
              " 161626.0,\n",
              " 168000.0,\n",
              " 174599.0,\n",
              " 190000.0,\n",
              " 200245.0,\n",
              " 215000.0,\n",
              " nan,\n",
              " nan,\n",
              " nan,\n",
              " nan,\n",
              " 200000.0,\n",
              " nan,\n",
              " nan,\n",
              " nan,\n",
              " 22432.0,\n",
              " 24335.0,\n",
              " 26704.0,\n",
              " 30628.0,\n",
              " 35322.0,\n",
              " 36442.0,\n",
              " 40574.0,\n",
              " 45024.0,\n",
              " 67500.0,\n",
              " 68670.0,\n",
              " 69000.0,\n",
              " 69618.0,\n",
              " 75346.0,\n",
              " 78000.0,\n",
              " 80275.0,\n",
              " 94877.0,\n",
              " 102270.0,\n",
              " 107500.0,\n",
              " 111090.0,\n",
              " 125000.0,\n",
              " 131000.0,\n",
              " 134523.0,\n",
              " 138000.0,\n",
              " 140000.0,\n",
              " 140000.0,\n",
              " 155000.0,\n",
              " 157000.0,\n",
              " 159000.0,\n",
              " 183000.0,\n",
              " 253000.0,\n",
              " nan,\n",
              " nan,\n",
              " nan,\n",
              " nan,\n",
              " nan,\n",
              " nan,\n",
              " nan,\n",
              " nan,\n",
              " 170000.0,\n",
              " 174000.0,\n",
              " nan,\n",
              " nan,\n",
              " nan,\n",
              " nan,\n",
              " nan,\n",
              " 21000.0,\n",
              " 26000.0,\n",
              " 27000.0,\n",
              " 35623.0,\n",
              " nan,\n",
              " nan,\n",
              " 28777.0,\n",
              " 35915.0,\n",
              " 38475.0,\n",
              " 38475.0,\n",
              " 38579.0,\n",
              " 43708.0,\n",
              " 44026.0,\n",
              " 45000.0,\n",
              " 49615.0,\n",
              " 53000.0,\n",
              " 80945.0,\n",
              " 82000.0,\n",
              " 84000.0,\n",
              " 94025.0,\n",
              " 95000.0,\n",
              " 96857.0,\n",
              " 105131.0,\n",
              " 106182.0,\n",
              " 106182.0,\n",
              " 113000.0,\n",
              " 120000.0,\n",
              " 123000.0,\n",
              " 135000.0,\n",
              " 139900.0,\n",
              " 147000.0,\n",
              " 165000.0,\n",
              " nan,\n",
              " nan,\n",
              " 128518.0,\n",
              " 172170.0,\n",
              " nan,\n",
              " 8805.0,\n",
              " 15776.0,\n",
              " 46000.0,\n",
              " 69761.0,\n",
              " 78869.0,\n",
              " 80945.0,\n",
              " 92993.0,\n",
              " 96000.0,\n",
              " 96857.0,\n",
              " 100755.0,\n",
              " 101758.0,\n",
              " 114000.0,\n",
              " 115000.0,\n",
              " 117969.0,\n",
              " 120000.0,\n",
              " 123212.0,\n",
              " 127000.0,\n",
              " 127146.0,\n",
              " 128647.0,\n",
              " 130000.0,\n",
              " 133000.0,\n",
              " 133183.0,\n",
              " 134000.0,\n",
              " 135362.0,\n",
              " 141000.0,\n",
              " 149000.0,\n",
              " 149260.0,\n",
              " 156201.0,\n",
              " 162000.0,\n",
              " 170000.0,\n",
              " nan,\n",
              " 164715.0,\n",
              " 182000.0,\n",
              " nan,\n",
              " 138095.0,\n",
              " 156940.0,\n",
              " 189000.0,\n",
              " 192399.0,\n",
              " nan,\n",
              " 182000.0,\n",
              " 190610.0,\n",
              " 203000.0,\n",
              " nan,\n",
              " nan,\n",
              " 299.0,\n",
              " 16000.0,\n",
              " 22501.0,\n",
              " 23595.0,\n",
              " 60952.0,\n",
              " 73079.0,\n",
              " 79307.0,\n",
              " 82000.0,\n",
              " 97000.0,\n",
              " 98181.0,\n",
              " 105000.0,\n",
              " 114000.0,\n",
              " 116998.0,\n",
              " 121352.0,\n",
              " 125770.0,\n",
              " 128000.0,\n",
              " 128000.0,\n",
              " 129000.0,\n",
              " 130469.0,\n",
              " 133000.0,\n",
              " 135323.0,\n",
              " 143000.0,\n",
              " 143376.0,\n",
              " 144000.0,\n",
              " 145000.0,\n",
              " 158000.0,\n",
              " 164000.0,\n",
              " 170000.0,\n",
              " 172000.0,\n",
              " 189723.0,\n",
              " 197000.0,\n",
              " 1655000.0,\n",
              " nan,\n",
              " 160016.0,\n",
              " 177000.0,\n",
              " 197000.0,\n",
              " nan,\n",
              " 200500.0,\n",
              " 246000.0,\n",
              " 913115.0,\n",
              " nan,\n",
              " nan,\n",
              " 35650.0,\n",
              " 156000.0,\n",
              " nan,\n",
              " nan,\n",
              " 17767.0,\n",
              " 23762.0,\n",
              " 35500.0,\n",
              " 62922.0,\n",
              " 68000.0,\n",
              " 76301.0,\n",
              " 85000.0,\n",
              " 87875.0,\n",
              " 91806.0,\n",
              " 95195.0,\n",
              " 95500.0,\n",
              " 99000.0,\n",
              " 99800.0,\n",
              " 106000.0,\n",
              " 110000.0,\n",
              " 112000.0,\n",
              " 118369.0,\n",
              " 129000.0,\n",
              " 130055.0,\n",
              " 131000.0,\n",
              " 160000.0,\n",
              " 162000.0,\n",
              " 234000.0,\n",
              " nan,\n",
              " nan,\n",
              " nan,\n",
              " 136000.0,\n",
              " nan,\n",
              " 149553.0,\n",
              " 228000.0,\n",
              " nan,\n",
              " nan,\n",
              " nan,\n",
              " nan,\n",
              " 157000.0,\n",
              " nan,\n",
              " 164000.0,\n",
              " 169700.0,\n",
              " nan,\n",
              " 17831.0,\n",
              " 22909.0,\n",
              " 24000.0,\n",
              " 37403.0,\n",
              " 51900.0,\n",
              " 55802.0,\n",
              " 56289.0,\n",
              " 57900.0,\n",
              " 58098.0,\n",
              " 75100.0,\n",
              " 76373.0,\n",
              " 79900.0,\n",
              " 96000.0,\n",
              " 105567.0,\n",
              " 122000.0,\n",
              " 124000.0,\n",
              " 131500.0,\n",
              " 135000.0,\n",
              " 139836.0,\n",
              " 145500.0,\n",
              " 147318.0,\n",
              " 153741.0,\n",
              " 167160.0,\n",
              " 170000.0,\n",
              " 172817.0,\n",
              " 174000.0,\n",
              " 175300.0,\n",
              " 186709.0,\n",
              " 188250.0,\n",
              " 198895.0,\n",
              " 198900.0,\n",
              " 206000.0,\n",
              " 220000.0,\n",
              " 237600.0,\n",
              " nan,\n",
              " 238000.0,\n",
              " nan,\n",
              " nan,\n",
              " nan,\n",
              " nan,\n",
              " nan,\n",
              " nan,\n",
              " nan,\n",
              " 4556.0,\n",
              " 12783.0,\n",
              " 15822.0,\n",
              " 18680.0,\n",
              " 24586.0,\n",
              " 25277.0,\n",
              " 31322.0,\n",
              " 31908.0,\n",
              " 38109.0,\n",
              " 38287.0,\n",
              " 38437.0,\n",
              " 42303.0,\n",
              " 42703.0,\n",
              " 42819.0,\n",
              " 44000.0,\n",
              " 50670.0,\n",
              " 52247.0,\n",
              " 54040.0,\n",
              " 56544.0,\n",
              " 56634.0,\n",
              " 58613.0,\n",
              " 58893.0,\n",
              " 64262.0,\n",
              " 64669.0,\n",
              " 64809.0,\n",
              " 64982.0,\n",
              " 67132.0,\n",
              " 68000.0,\n",
              " 68559.0,\n",
              " 72095.0,\n",
              " 74875.0,\n",
              " 76074.0,\n",
              " 76867.0,\n",
              " 78000.0,\n",
              " 78099.0,\n",
              " 81888.0,\n",
              " 83000.0,\n",
              " 84085.0,\n",
              " 86865.0,\n",
              " 87000.0,\n",
              " 91601.0,\n",
              " 92367.0,\n",
              " 92483.0,\n",
              " 94000.0,\n",
              " 97846.0,\n",
              " 98000.0,\n",
              " 99762.0,\n",
              " 101270.0,\n",
              " 102903.0,\n",
              " 109000.0,\n",
              " 109926.0,\n",
              " 115048.0,\n",
              " 123000.0,\n",
              " 124000.0,\n",
              " 124000.0,\n",
              " 128000.0,\n",
              " 138154.0,\n",
              " 140123.0,\n",
              " 140290.0,\n",
              " 142618.0,\n",
              " 153342.0,\n",
              " 159219.0,\n",
              " 175325.0,\n",
              " 176617.0,\n",
              " nan,\n",
              " 142786.0,\n",
              " 148500.0,\n",
              " 150000.0,\n",
              " 158500.0,\n",
              " 167882.0,\n",
              " 168000.0,\n",
              " 169072.0,\n",
              " 186000.0,\n",
              " 192223.0,\n",
              " 194000.0,\n",
              " nan,\n",
              " nan,\n",
              " 195230.0,\n",
              " 200000.0,\n",
              " 215000.0,\n",
              " 277000.0,\n",
              " nan,\n",
              " 65.0,\n",
              " 124.0,\n",
              " 126.0,\n",
              " 131.0,\n",
              " 138.0,\n",
              " 146.0,\n",
              " 4356.0,\n",
              " 4472.0,\n",
              " 8025.0,\n",
              " 8473.0,\n",
              " 8697.0,\n",
              " 10213.0,\n",
              " 13147.0,\n",
              " 18137.0,\n",
              " 18416.0,\n",
              " 22860.0,\n",
              " 25277.0,\n",
              " 25739.0,\n",
              " 26237.0,\n",
              " 29490.0,\n",
              " 29711.0,\n",
              " 29974.0,\n",
              " 32752.0,\n",
              " 37990.0,\n",
              " 38000.0,\n",
              " 38018.0,\n",
              " 40500.0,\n",
              " 45408.0,\n",
              " 46191.0,\n",
              " 48789.0,\n",
              " 49539.0,\n",
              " 50000.0,\n",
              " 53000.0,\n",
              " 60137.0,\n",
              " 60678.0,\n",
              " 61007.0,\n",
              " 70000.0,\n",
              " 70200.0,\n",
              " 70206.0,\n",
              " 71455.0,\n",
              " 73409.0,\n",
              " 73988.0,\n",
              " 74000.0,\n",
              " 74000.0,\n",
              " 74057.0,\n",
              " 74662.0,\n",
              " 75680.0,\n",
              " 84483.0,\n",
              " 86568.0,\n",
              " 87828.0,\n",
              " 89329.0,\n",
              " 96200.0,\n",
              " 100455.0,\n",
              " 101856.0,\n",
              " 101990.0,\n",
              " 108260.0,\n",
              " 110000.0,\n",
              " 110365.0,\n",
              " 114299.0,\n",
              " 116456.0,\n",
              " 120298.0,\n",
              " 121005.0,\n",
              " 132287.0,\n",
              " 138365.0,\n",
              " 144000.0,\n",
              " nan,\n",
              " 58828.0,\n",
              " 105593.0,\n",
              " 117000.0,\n",
              " 120000.0,\n",
              " 130000.0,\n",
              " 154000.0,\n",
              " 155000.0,\n",
              " 156008.0,\n",
              " 167384.0,\n",
              " 191206.0,\n",
              " 197000.0,\n",
              " 1000000.0,\n",
              " nan,\n",
              " nan,\n",
              " nan,\n",
              " nan,\n",
              " 10824.0,\n",
              " 101827.0,\n",
              " 102724.0,\n",
              " 103000.0,\n",
              " 159000.0,\n",
              " 163000.0,\n",
              " 177000.0,\n",
              " 180000.0,\n",
              " 188000.0,\n",
              " 192000.0,\n",
              " 206000.0,\n",
              " 224000.0,\n",
              " 248000.0,\n",
              " nan,\n",
              " nan,\n",
              " 237000.0,\n",
              " nan,\n",
              " 270330.0,\n",
              " nan,\n",
              " nan,\n",
              " 161000.0,\n",
              " nan,\n",
              " nan,\n",
              " nan,\n",
              " 10700.0,\n",
              " 37932.0,\n",
              " 41000.0,\n",
              " 45611.0,\n",
              " 49880.0,\n",
              " 83100.0,\n",
              " nan,\n",
              " 54269.0,\n",
              " 69110.0,\n",
              " 72869.0,\n",
              " 88652.0,\n",
              " 90095.0,\n",
              " 94280.0,\n",
              " 128322.0,\n",
              " nan,\n",
              " 48983.0,\n",
              " 77139.0,\n",
              " 129094.0,\n",
              " nan,\n",
              " 136000.0,\n",
              " 182000.0,\n",
              " nan,\n",
              " 34600.0,\n",
              " 71032.0,\n",
              " 144000.0,\n",
              " 221000.0,\n",
              " nan,\n",
              " nan,\n",
              " nan,\n",
              " 131000.0,\n",
              " nan,\n",
              " nan,\n",
              " nan,\n",
              " 142718.0,\n",
              " 147000.0,\n",
              " 160000.0,\n",
              " nan,\n",
              " 184285.0,\n",
              " 500000.0,\n",
              " nan,\n",
              " 51728.0,\n",
              " nan,\n",
              " 0.0,\n",
              " 14190.0,\n",
              " 15000.0,\n",
              " 21007.0,\n",
              " 22349.0,\n",
              " 24746.0,\n",
              " 27637.0,\n",
              " 27800.0,\n",
              " 31286.0,\n",
              " 32394.0,\n",
              " 36824.0,\n",
              " 36990.0,\n",
              " 54875.0,\n",
              " 57308.0,\n",
              " 59097.0,\n",
              " 64507.0,\n",
              " 67336.0,\n",
              " 69245.0,\n",
              " 73012.0,\n",
              " 75036.0,\n",
              " 78470.0,\n",
              " 80559.0,\n",
              " 82000.0,\n",
              " 92481.0,\n",
              " 99220.0,\n",
              " 115000.0,\n",
              " 124479.0,\n",
              " 125000.0,\n",
              " 126000.0,\n",
              " 131456.0,\n",
              " 135777.0,\n",
              " 139000.0,\n",
              " 142782.0,\n",
              " 145000.0,\n",
              " 151646.0,\n",
              " 152894.0,\n",
              " 152957.0,\n",
              " 159344.0,\n",
              " 166000.0,\n",
              " 166972.0,\n",
              " 169000.0,\n",
              " 177558.0,\n",
              " 178000.0,\n",
              " 178045.0,\n",
              " 180000.0,\n",
              " 233840.0,\n",
              " nan,\n",
              " 178174.0,\n",
              " nan,\n",
              " nan,\n",
              " nan,\n",
              " nan,\n",
              " nan,\n",
              " 15822.0,\n",
              " 18120.0,\n",
              " 18309.0,\n",
              " 20270.0,\n",
              " 25577.0,\n",
              " 26139.0,\n",
              " 27057.0,\n",
              " 27315.0,\n",
              " 32639.0,\n",
              " 32752.0,\n",
              " 33924.0,\n",
              " 34159.0,\n",
              " 34933.0,\n",
              " 38287.0,\n",
              " 39524.0,\n",
              " 40142.0,\n",
              " 42703.0,\n",
              " 42739.0,\n",
              " 44000.0,\n",
              " 56593.0,\n",
              " 58098.0,\n",
              " 66199.0,\n",
              " 81888.0,\n",
              " 82854.0,\n",
              " 87791.0,\n",
              " 119000.0,\n",
              " 125103.0,\n",
              " nan,\n",
              " nan,\n",
              " 110004.0,\n",
              " 120432.0,\n",
              " 130066.0,\n",
              " 133280.0,\n",
              " 143000.0,\n",
              " 145331.0,\n",
              " 178000.0,\n",
              " 217000.0,\n",
              " 228000.0,\n",
              " nan,\n",
              " nan,\n",
              " nan,\n",
              " nan,\n",
              " 28598.0,\n",
              " 29147.0,\n",
              " 29266.0,\n",
              " 32336.0,\n",
              " 34341.0,\n",
              " 34449.0,\n",
              " 41546.0,\n",
              " 49683.0,\n",
              " 50067.0,\n",
              " 52926.0,\n",
              " 52985.0,\n",
              " 56136.0,\n",
              " 58428.0,\n",
              " 63599.0,\n",
              " 70579.0,\n",
              " 72664.0,\n",
              " 98000.0,\n",
              " 99129.0,\n",
              " 99545.0,\n",
              " 100648.0,\n",
              " 102917.0,\n",
              " 109000.0,\n",
              " 119000.0,\n",
              " 128000.0,\n",
              " 134000.0,\n",
              " 148865.0,\n",
              " 150795.0,\n",
              " 152000.0,\n",
              " 158000.0,\n",
              " 165000.0,\n",
              " 179296.0,\n",
              " nan,\n",
              " 172800.0,\n",
              " 182000.0,\n",
              " 183015.0,\n",
              " 192420.0,\n",
              " nan,\n",
              " nan,\n",
              " nan,\n",
              " 1.0,\n",
              " 19775.0,\n",
              " 22332.0,\n",
              " 23315.0,\n",
              " 26354.0,\n",
              " 29609.0,\n",
              " 32841.0,\n",
              " 44000.0,\n",
              " 46400.0,\n",
              " 49189.0,\n",
              " 53615.0,\n",
              " 54297.0,\n",
              " 55000.0,\n",
              " 60421.0,\n",
              " 69000.0,\n",
              " 69000.0,\n",
              " 89000.0,\n",
              " 94673.0,\n",
              " 97604.0,\n",
              " 102000.0,\n",
              " 109391.0,\n",
              " 109422.0,\n",
              " 133465.0,\n",
              " 135723.0,\n",
              " 140000.0,\n",
              " 141731.0,\n",
              " 142951.0,\n",
              " 158335.0,\n",
              " nan,\n",
              " 116000.0,\n",
              " 126000.0,\n",
              " 139415.0,\n",
              " 145750.0,\n",
              " 159000.0,\n",
              " 163000.0,\n",
              " 177364.0,\n",
              " 179200.0,\n",
              " 234000.0,\n",
              " 249750.0,\n",
              " nan,\n",
              " nan,\n",
              " 182000.0,\n",
              " nan,\n",
              " 7700.0,\n",
              " 11675.0,\n",
              " 28418.0,\n",
              " ...]"
            ]
          },
          "metadata": {
            "tags": []
          },
          "execution_count": 77
        }
      ]
    },
    {
      "cell_type": "code",
      "metadata": {
        "colab": {
          "base_uri": "https://localhost:8080/"
        },
        "id": "Xtz0KdRkD5wO",
        "outputId": "edcb927b-85c9-4caf-c22d-d0dc580eea92"
      },
      "source": [
        "df[\"odometer\"].isna().sum()"
      ],
      "execution_count": null,
      "outputs": [
        {
          "output_type": "execute_result",
          "data": {
            "text/plain": [
              "123158"
            ]
          },
          "metadata": {
            "tags": []
          },
          "execution_count": 78
        }
      ]
    },
    {
      "cell_type": "code",
      "metadata": {
        "colab": {
          "base_uri": "https://localhost:8080/",
          "height": 279
        },
        "id": "ZzyohF6xabUX",
        "outputId": "1b30720d-4797-4f50-b718-725f0a86f10c"
      },
      "source": [
        "ax = sns.scatterplot(x=\"odometer\", y=\"price\", data=df)"
      ],
      "execution_count": null,
      "outputs": [
        {
          "output_type": "display_data",
          "data": {
            "image/png": "[encoded data removed]",
            "text/plain": [
              "<Figure size 432x288 with 1 Axes>"
            ]
          },
          "metadata": {
            "tags": [],
            "needs_background": "light"
          }
        }
      ]
    },
    {
      "cell_type": "code",
      "metadata": {
        "colab": {
          "base_uri": "https://localhost:8080/"
        },
        "id": "qDYK7CzRahX0",
        "outputId": "e877a210-9582-49c9-8f77-6e886e28c40c"
      },
      "source": [
        "df[\"odometer\"].max()"
      ],
      "execution_count": null,
      "outputs": [
        {
          "output_type": "execute_result",
          "data": {
            "text/plain": [
              "10000000.0"
            ]
          },
          "metadata": {
            "tags": []
          },
          "execution_count": 80
        }
      ]
    },
    {
      "cell_type": "code",
      "metadata": {
        "id": "SzhC5h69ahar"
      },
      "source": [
        "df.drop(df[df[\"odometer\"]==10000000.0].index,inplace=True)"
      ],
      "execution_count": null,
      "outputs": []
    },
    {
      "cell_type": "code",
      "metadata": {
        "id": "kVCgnsB1abXL"
      },
      "source": [
        "df.drop(df[df[\"odometer\"]==0.0].index,inplace=True)"
      ],
      "execution_count": null,
      "outputs": []
    },
    {
      "cell_type": "code",
      "metadata": {
        "colab": {
          "base_uri": "https://localhost:8080/",
          "height": 279
        },
        "id": "cK4ZQr4AdxvV",
        "outputId": "edcf0b47-1ed1-4f7b-f9c2-39faa4ad884a"
      },
      "source": [
        "ax = sns.scatterplot(x=\"odometer\", y=\"price\", data=df)\n",
        "ax.get_xaxis().get_major_formatter().set_scientific(False)\n",
        "ax.get_yaxis().get_major_formatter().set_scientific(False)"
      ],
      "execution_count": null,
      "outputs": [
        {
          "output_type": "display_data",
          "data": {
            "image/png": "[encoded data removed]",
            "text/plain": [
              "<Figure size 432x288 with 1 Axes>"
            ]
          },
          "metadata": {
            "tags": [],
            "needs_background": "light"
          }
        }
      ]
    },
    {
      "cell_type": "code",
      "metadata": {
        "colab": {
          "base_uri": "https://localhost:8080/"
        },
        "id": "xcerRQRfdxxR",
        "outputId": "783e32ab-f372-46f4-92d2-026c95ed3385"
      },
      "source": [
        "df[\"odometer\"].isna().sum()"
      ],
      "execution_count": null,
      "outputs": [
        {
          "output_type": "execute_result",
          "data": {
            "text/plain": [
              "123158"
            ]
          },
          "metadata": {
            "tags": []
          },
          "execution_count": 85
        }
      ]
    },
    {
      "cell_type": "code",
      "metadata": {
        "id": "enX7qc0Sdxzn"
      },
      "source": [
        "df=df[(df.odometer < 2000000)]"
      ],
      "execution_count": null,
      "outputs": []
    },
    {
      "cell_type": "code",
      "metadata": {
        "colab": {
          "base_uri": "https://localhost:8080/",
          "height": 279
        },
        "id": "5b5E4oHxdx27",
        "outputId": "6f9ac77e-82a6-432b-8b4c-16273e4f7923"
      },
      "source": [
        "ax = sns.scatterplot(x=\"odometer\", y=\"price\", data=df)\n",
        "ax.get_xaxis().get_major_formatter().set_scientific(False)"
      ],
      "execution_count": null,
      "outputs": [
        {
          "output_type": "display_data",
          "data": {
            "image/png": "[encoded data removed]",
            "text/plain": [
              "<Figure size 432x288 with 1 Axes>"
            ]
          },
          "metadata": {
            "tags": [],
            "needs_background": "light"
          }
        }
      ]
    },
    {
      "cell_type": "code",
      "metadata": {
        "colab": {
          "base_uri": "https://localhost:8080/"
        },
        "id": "cS1jtkLxem0O",
        "outputId": "334e7178-a459-4ee2-f5cc-a11d5d4bb888"
      },
      "source": [
        "df[\"odometer\"].isna().sum()"
      ],
      "execution_count": null,
      "outputs": [
        {
          "output_type": "execute_result",
          "data": {
            "text/plain": [
              "0"
            ]
          },
          "metadata": {
            "tags": []
          },
          "execution_count": 88
        }
      ]
    },
    {
      "cell_type": "code",
      "metadata": {
        "colab": {
          "base_uri": "https://localhost:8080/"
        },
        "id": "bdhuOkvRem2W",
        "outputId": "e097c5fc-94d8-4ab7-ef31-cf6b4032a7e9"
      },
      "source": [
        "df[\"year\"].isna().sum()"
      ],
      "execution_count": null,
      "outputs": [
        {
          "output_type": "execute_result",
          "data": {
            "text/plain": [
              "556"
            ]
          },
          "metadata": {
            "tags": []
          },
          "execution_count": 89
        }
      ]
    },
    {
      "cell_type": "code",
      "metadata": {
        "colab": {
          "base_uri": "https://localhost:8080/"
        },
        "id": "xdPwM8lKem4e",
        "outputId": "626e21ea-62b2-4a8a-8e44-bcfda4685e83"
      },
      "source": [
        "df[\"year\"].min()"
      ],
      "execution_count": null,
      "outputs": [
        {
          "output_type": "execute_result",
          "data": {
            "text/plain": [
              "1919.0"
            ]
          },
          "metadata": {
            "tags": []
          },
          "execution_count": 90
        }
      ]
    },
    {
      "cell_type": "code",
      "metadata": {
        "id": "OqUuUtOVem76"
      },
      "source": [
        "df=df.dropna(subset=['year'])"
      ],
      "execution_count": null,
      "outputs": []
    },
    {
      "cell_type": "code",
      "metadata": {
        "colab": {
          "base_uri": "https://localhost:8080/",
          "height": 279
        },
        "id": "SvAtQ-ade-wO",
        "outputId": "583d1f60-5f43-4f55-fb1f-560616c4e6e3"
      },
      "source": [
        "bx = sns.scatterplot(x=\"year\", y=\"price\", data=df)"
      ],
      "execution_count": null,
      "outputs": [
        {
          "output_type": "display_data",
          "data": {
            "image/png": "[encoded data removed]",
            "text/plain": [
              "<Figure size 432x288 with 1 Axes>"
            ]
          },
          "metadata": {
            "tags": [],
            "needs_background": "light"
          }
        }
      ]
    },
    {
      "cell_type": "code",
      "metadata": {
        "id": "Q6ByRRrBe-yB"
      },
      "source": [
        "df=df[(df.year > 1950)]"
      ],
      "execution_count": null,
      "outputs": []
    },
    {
      "cell_type": "code",
      "metadata": {
        "colab": {
          "base_uri": "https://localhost:8080/"
        },
        "id": "vx10kwove-03",
        "outputId": "274ccfc2-a172-4124-faaa-de5d5f39cd31"
      },
      "source": [
        "df[\"year\"].min()"
      ],
      "execution_count": null,
      "outputs": [
        {
          "output_type": "execute_result",
          "data": {
            "text/plain": [
              "1951.0"
            ]
          },
          "metadata": {
            "tags": []
          },
          "execution_count": 94
        }
      ]
    },
    {
      "cell_type": "code",
      "metadata": {
        "colab": {
          "base_uri": "https://localhost:8080/"
        },
        "id": "lHWbGt8Se-4i",
        "outputId": "11341bbd-b318-49e6-81f3-2107c749272a"
      },
      "source": [
        "df[\"year\"].isna().sum()"
      ],
      "execution_count": null,
      "outputs": [
        {
          "output_type": "execute_result",
          "data": {
            "text/plain": [
              "0"
            ]
          },
          "metadata": {
            "tags": []
          },
          "execution_count": 96
        }
      ]
    },
    {
      "cell_type": "code",
      "metadata": {
        "colab": {
          "base_uri": "https://localhost:8080/",
          "height": 511
        },
        "id": "yJcQG4yifU4i",
        "outputId": "71501e65-9490-4ea7-b2fa-baac4408b7bf"
      },
      "source": [
        "null_values=df.isnull().sum()\n",
        "null_values=pd.DataFrame(null_values,columns=['null'])\n",
        "j=1\n",
        "sum_tot=len(df)\n",
        "null_values['percent']=null_values['null']/sum_tot\n",
        "round(null_values*100,3).sort_values('percent',ascending=False)"
      ],
      "execution_count": null,
      "outputs": [
        {
          "output_type": "execute_result",
          "data": {
            "text/html": [
              "<div>\n",
              "<style scoped>\n",
              "    .dataframe tbody tr th:only-of-type {\n",
              "        vertical-align: middle;\n",
              "    }\n",
              "\n",
              "    .dataframe tbody tr th {\n",
              "        vertical-align: top;\n",
              "    }\n",
              "\n",
              "    .dataframe thead th {\n",
              "        text-align: right;\n",
              "    }\n",
              "</style>\n",
              "<table border=\"1\" class=\"dataframe\">\n",
              "  <thead>\n",
              "    <tr style=\"text-align: right;\">\n",
              "      <th></th>\n",
              "      <th>null</th>\n",
              "      <th>percent</th>\n",
              "    </tr>\n",
              "  </thead>\n",
              "  <tbody>\n",
              "    <tr>\n",
              "      <th>size</th>\n",
              "      <td>13764400</td>\n",
              "      <td>64.255</td>\n",
              "    </tr>\n",
              "    <tr>\n",
              "      <th>condition</th>\n",
              "      <td>8361400</td>\n",
              "      <td>39.033</td>\n",
              "    </tr>\n",
              "    <tr>\n",
              "      <th>cylinders</th>\n",
              "      <td>6941300</td>\n",
              "      <td>32.404</td>\n",
              "    </tr>\n",
              "    <tr>\n",
              "      <th>paint_color</th>\n",
              "      <td>5158400</td>\n",
              "      <td>24.081</td>\n",
              "    </tr>\n",
              "    <tr>\n",
              "      <th>drive</th>\n",
              "      <td>4960800</td>\n",
              "      <td>23.158</td>\n",
              "    </tr>\n",
              "    <tr>\n",
              "      <th>type</th>\n",
              "      <td>4074400</td>\n",
              "      <td>19.020</td>\n",
              "    </tr>\n",
              "    <tr>\n",
              "      <th>manufacturer</th>\n",
              "      <td>658500</td>\n",
              "      <td>3.074</td>\n",
              "    </tr>\n",
              "    <tr>\n",
              "      <th>model</th>\n",
              "      <td>164700</td>\n",
              "      <td>0.769</td>\n",
              "    </tr>\n",
              "    <tr>\n",
              "      <th>fuel</th>\n",
              "      <td>150600</td>\n",
              "      <td>0.703</td>\n",
              "    </tr>\n",
              "    <tr>\n",
              "      <th>title_status</th>\n",
              "      <td>117100</td>\n",
              "      <td>0.547</td>\n",
              "    </tr>\n",
              "    <tr>\n",
              "      <th>transmission</th>\n",
              "      <td>88800</td>\n",
              "      <td>0.415</td>\n",
              "    </tr>\n",
              "    <tr>\n",
              "      <th>price</th>\n",
              "      <td>0</td>\n",
              "      <td>0.000</td>\n",
              "    </tr>\n",
              "    <tr>\n",
              "      <th>year</th>\n",
              "      <td>0</td>\n",
              "      <td>0.000</td>\n",
              "    </tr>\n",
              "    <tr>\n",
              "      <th>odometer</th>\n",
              "      <td>0</td>\n",
              "      <td>0.000</td>\n",
              "    </tr>\n",
              "    <tr>\n",
              "      <th>state</th>\n",
              "      <td>0</td>\n",
              "      <td>0.000</td>\n",
              "    </tr>\n",
              "  </tbody>\n",
              "</table>\n",
              "</div>"
            ],
            "text/plain": [
              "                  null  percent\n",
              "size          13764400   64.255\n",
              "condition      8361400   39.033\n",
              "cylinders      6941300   32.404\n",
              "paint_color    5158400   24.081\n",
              "drive          4960800   23.158\n",
              "type           4074400   19.020\n",
              "manufacturer    658500    3.074\n",
              "model           164700    0.769\n",
              "fuel            150600    0.703\n",
              "title_status    117100    0.547\n",
              "transmission     88800    0.415\n",
              "price                0    0.000\n",
              "year                 0    0.000\n",
              "odometer             0    0.000\n",
              "state                0    0.000"
            ]
          },
          "metadata": {
            "tags": []
          },
          "execution_count": 97
        }
      ]
    },
    {
      "cell_type": "code",
      "metadata": {
        "colab": {
          "base_uri": "https://localhost:8080/"
        },
        "id": "3KFfJ7TufU6R",
        "outputId": "ce862d40-ec12-4174-f33c-95f54345733b"
      },
      "source": [
        "df.condition.value_counts()"
      ],
      "execution_count": null,
      "outputs": [
        {
          "output_type": "execute_result",
          "data": {
            "text/plain": [
              "excellent    62777\n",
              "good         50429\n",
              "like new     11907\n",
              "fair          4809\n",
              "new            368\n",
              "salvage        310\n",
              "Name: condition, dtype: int64"
            ]
          },
          "metadata": {
            "tags": []
          },
          "execution_count": 98
        }
      ]
    },
    {
      "cell_type": "code",
      "metadata": {
        "id": "Y506pJ8Kfqbn"
      },
      "source": [
        "## condition is dependent on mileage\n",
        "## find missing values using odometer readings\n",
        "## find mean value of odometer reading, group by the condition\n",
        "## (condition*odometer).mean()\n",
        "\n",
        "excellent_odo_mean = df[df['condition'] == 'excellent']['odometer'].mean()\n",
        "good_odo_mean = df[df['condition'] == 'good']['odometer'].mean()\n",
        "like_new_odo_mean = df[df['condition'] == 'like new']['odometer'].mean()\n",
        "salvage_odo_mean = df[df['condition'] == 'salvage']['odometer'].mean()\n",
        "fair_odo_mean = df[df['condition'] == 'fair']['odometer'].mean()"
      ],
      "execution_count": null,
      "outputs": []
    },
    {
      "cell_type": "code",
      "metadata": {
        "colab": {
          "base_uri": "https://localhost:8080/"
        },
        "id": "-7zmMqW7fqet",
        "outputId": "b2860190-bafe-42e1-dc93-70d6f3195cbf"
      },
      "source": [
        "print('Like new average odometer:', round( like_new_odo_mean,2))\n",
        "print('Excellent average odometer:', round( excellent_odo_mean,2))\n",
        "print('Good average odometer:', round( good_odo_mean,2))\n",
        "print('Fair average odometer:', round( fair_odo_mean,2))\n",
        "print('Salvage average odometer:', round( salvage_odo_mean,2))"
      ],
      "execution_count": null,
      "outputs": [
        {
          "output_type": "stream",
          "text": [
            "Like new average odometer: 82906.89\n",
            "Excellent average odometer: 110743.99\n",
            "Good average odometer: 118007.56\n",
            "Fair average odometer: 180044.46\n",
            "Salvage average odometer: 155462.32\n"
          ],
          "name": "stdout"
        }
      ]
    },
    {
      "cell_type": "code",
      "metadata": {
        "id": "0kxFViyqfU82"
      },
      "source": [
        "df.loc[df.year>=2019, 'condition'] = df.loc[df.year>=2019, 'condition'].fillna('new')"
      ],
      "execution_count": null,
      "outputs": []
    },
    {
      "cell_type": "code",
      "metadata": {
        "id": "a5QlVaL1fU_5"
      },
      "source": [
        "df.loc[df['odometer'] <= like_new_odo_mean, 'condition'] = df.loc[df['odometer'] <= like_new_odo_mean, 'condition'].fillna('like new')\n",
        "\n",
        "df.loc[df['odometer'] >= fair_odo_mean, 'condition'] = df.loc[df['odometer'] >= fair_odo_mean, 'condition'].fillna('fair')\n",
        "\n",
        "df.loc[((df['odometer'] > good_odo_mean) & \n",
        "       (df['odometer'] <= excellent_odo_mean)), 'condition'] = df.loc[((df['odometer'] > good_odo_mean) & \n",
        "       (df['odometer'] <= excellent_odo_mean)), 'condition'].fillna('excellent')\n",
        "\n",
        "df.loc[((df['odometer'] > like_new_odo_mean) & \n",
        "       (df['odometer'] <= good_odo_mean)), 'condition'] = df.loc[((df['odometer'] > like_new_odo_mean) & \n",
        "       (df['odometer'] <= good_odo_mean)), 'condition'].fillna('good')\n",
        "\n",
        "df.loc[((df['odometer'] > good_odo_mean) & \n",
        "       (df['odometer'] <= fair_odo_mean)), 'condition'] = df.loc[((df['odometer'] > good_odo_mean) & \n",
        "       (df['odometer'] <= fair_odo_mean)), 'condition'].fillna('salvage')"
      ],
      "execution_count": null,
      "outputs": []
    },
    {
      "cell_type": "code",
      "metadata": {
        "colab": {
          "base_uri": "https://localhost:8080/",
          "height": 511
        },
        "id": "n4DeKch2pgUo",
        "outputId": "b67e557a-9f63-40ca-de91-47c8c952767d"
      },
      "source": [
        "null_values=df.isnull().sum()\n",
        "null_values=pd.DataFrame(null_values,columns=['null'])\n",
        "j=1\n",
        "sum_tot=len(df)\n",
        "null_values['percent']=null_values['null']/sum_tot\n",
        "round(null_values*100,3).sort_values('percent',ascending=False)"
      ],
      "execution_count": null,
      "outputs": [
        {
          "output_type": "execute_result",
          "data": {
            "text/html": [
              "<div>\n",
              "<style scoped>\n",
              "    .dataframe tbody tr th:only-of-type {\n",
              "        vertical-align: middle;\n",
              "    }\n",
              "\n",
              "    .dataframe tbody tr th {\n",
              "        vertical-align: top;\n",
              "    }\n",
              "\n",
              "    .dataframe thead th {\n",
              "        text-align: right;\n",
              "    }\n",
              "</style>\n",
              "<table border=\"1\" class=\"dataframe\">\n",
              "  <thead>\n",
              "    <tr style=\"text-align: right;\">\n",
              "      <th></th>\n",
              "      <th>null</th>\n",
              "      <th>percent</th>\n",
              "    </tr>\n",
              "  </thead>\n",
              "  <tbody>\n",
              "    <tr>\n",
              "      <th>size</th>\n",
              "      <td>13764400</td>\n",
              "      <td>64.255</td>\n",
              "    </tr>\n",
              "    <tr>\n",
              "      <th>cylinders</th>\n",
              "      <td>6941300</td>\n",
              "      <td>32.404</td>\n",
              "    </tr>\n",
              "    <tr>\n",
              "      <th>paint_color</th>\n",
              "      <td>5158400</td>\n",
              "      <td>24.081</td>\n",
              "    </tr>\n",
              "    <tr>\n",
              "      <th>drive</th>\n",
              "      <td>4960800</td>\n",
              "      <td>23.158</td>\n",
              "    </tr>\n",
              "    <tr>\n",
              "      <th>type</th>\n",
              "      <td>4074400</td>\n",
              "      <td>19.020</td>\n",
              "    </tr>\n",
              "    <tr>\n",
              "      <th>manufacturer</th>\n",
              "      <td>658500</td>\n",
              "      <td>3.074</td>\n",
              "    </tr>\n",
              "    <tr>\n",
              "      <th>model</th>\n",
              "      <td>164700</td>\n",
              "      <td>0.769</td>\n",
              "    </tr>\n",
              "    <tr>\n",
              "      <th>fuel</th>\n",
              "      <td>150600</td>\n",
              "      <td>0.703</td>\n",
              "    </tr>\n",
              "    <tr>\n",
              "      <th>title_status</th>\n",
              "      <td>117100</td>\n",
              "      <td>0.547</td>\n",
              "    </tr>\n",
              "    <tr>\n",
              "      <th>transmission</th>\n",
              "      <td>88800</td>\n",
              "      <td>0.415</td>\n",
              "    </tr>\n",
              "    <tr>\n",
              "      <th>price</th>\n",
              "      <td>0</td>\n",
              "      <td>0.000</td>\n",
              "    </tr>\n",
              "    <tr>\n",
              "      <th>year</th>\n",
              "      <td>0</td>\n",
              "      <td>0.000</td>\n",
              "    </tr>\n",
              "    <tr>\n",
              "      <th>condition</th>\n",
              "      <td>0</td>\n",
              "      <td>0.000</td>\n",
              "    </tr>\n",
              "    <tr>\n",
              "      <th>odometer</th>\n",
              "      <td>0</td>\n",
              "      <td>0.000</td>\n",
              "    </tr>\n",
              "    <tr>\n",
              "      <th>state</th>\n",
              "      <td>0</td>\n",
              "      <td>0.000</td>\n",
              "    </tr>\n",
              "  </tbody>\n",
              "</table>\n",
              "</div>"
            ],
            "text/plain": [
              "                  null  percent\n",
              "size          13764400   64.255\n",
              "cylinders      6941300   32.404\n",
              "paint_color    5158400   24.081\n",
              "drive          4960800   23.158\n",
              "type           4074400   19.020\n",
              "manufacturer    658500    3.074\n",
              "model           164700    0.769\n",
              "fuel            150600    0.703\n",
              "title_status    117100    0.547\n",
              "transmission     88800    0.415\n",
              "price                0    0.000\n",
              "year                 0    0.000\n",
              "condition            0    0.000\n",
              "odometer             0    0.000\n",
              "state                0    0.000"
            ]
          },
          "metadata": {
            "tags": []
          },
          "execution_count": 103
        }
      ]
    },
    {
      "cell_type": "code",
      "metadata": {
        "id": "YzotNCZgpgXS"
      },
      "source": [
        "## drop null values with less than 5% NaN\n",
        "\n",
        "df=df.dropna(subset=['title_status','fuel','transmission','model','manufacturer'])"
      ],
      "execution_count": null,
      "outputs": []
    },
    {
      "cell_type": "code",
      "metadata": {
        "colab": {
          "base_uri": "https://localhost:8080/",
          "height": 220
        },
        "id": "z4CNC-q9pgZj",
        "outputId": "2a1174fb-bea5-48ea-c7cf-88b7e9d7ee00"
      },
      "source": [
        "## size has more than 60% null values, drop Size\n",
        "df=df.drop([\"size\"],axis=1)\n",
        "df.head()"
      ],
      "execution_count": null,
      "outputs": [
        {
          "output_type": "execute_result",
          "data": {
            "text/html": [
              "<div>\n",
              "<style scoped>\n",
              "    .dataframe tbody tr th:only-of-type {\n",
              "        vertical-align: middle;\n",
              "    }\n",
              "\n",
              "    .dataframe tbody tr th {\n",
              "        vertical-align: top;\n",
              "    }\n",
              "\n",
              "    .dataframe thead th {\n",
              "        text-align: right;\n",
              "    }\n",
              "</style>\n",
              "<table border=\"1\" class=\"dataframe\">\n",
              "  <thead>\n",
              "    <tr style=\"text-align: right;\">\n",
              "      <th></th>\n",
              "      <th>price</th>\n",
              "      <th>year</th>\n",
              "      <th>manufacturer</th>\n",
              "      <th>model</th>\n",
              "      <th>condition</th>\n",
              "      <th>cylinders</th>\n",
              "      <th>fuel</th>\n",
              "      <th>odometer</th>\n",
              "      <th>title_status</th>\n",
              "      <th>transmission</th>\n",
              "      <th>drive</th>\n",
              "      <th>type</th>\n",
              "      <th>paint_color</th>\n",
              "      <th>state</th>\n",
              "    </tr>\n",
              "  </thead>\n",
              "  <tbody>\n",
              "    <tr>\n",
              "      <th>0</th>\n",
              "      <td>6995</td>\n",
              "      <td>2000.0</td>\n",
              "      <td>gmc</td>\n",
              "      <td>new sierra 1500</td>\n",
              "      <td>excellent</td>\n",
              "      <td>8 cylinders</td>\n",
              "      <td>gas</td>\n",
              "      <td>167783.0</td>\n",
              "      <td>clean</td>\n",
              "      <td>automatic</td>\n",
              "      <td>4wd</td>\n",
              "      <td>NaN</td>\n",
              "      <td>red</td>\n",
              "      <td>mn</td>\n",
              "    </tr>\n",
              "    <tr>\n",
              "      <th>1</th>\n",
              "      <td>8750</td>\n",
              "      <td>2013.0</td>\n",
              "      <td>hyundai</td>\n",
              "      <td>sonata</td>\n",
              "      <td>excellent</td>\n",
              "      <td>4 cylinders</td>\n",
              "      <td>gas</td>\n",
              "      <td>90821.0</td>\n",
              "      <td>clean</td>\n",
              "      <td>automatic</td>\n",
              "      <td>fwd</td>\n",
              "      <td>NaN</td>\n",
              "      <td>grey</td>\n",
              "      <td>mn</td>\n",
              "    </tr>\n",
              "    <tr>\n",
              "      <th>2</th>\n",
              "      <td>10900</td>\n",
              "      <td>2013.0</td>\n",
              "      <td>toyota</td>\n",
              "      <td>prius</td>\n",
              "      <td>good</td>\n",
              "      <td>4 cylinders</td>\n",
              "      <td>hybrid</td>\n",
              "      <td>92800.0</td>\n",
              "      <td>clean</td>\n",
              "      <td>automatic</td>\n",
              "      <td>fwd</td>\n",
              "      <td>NaN</td>\n",
              "      <td>blue</td>\n",
              "      <td>ct</td>\n",
              "    </tr>\n",
              "    <tr>\n",
              "      <th>4</th>\n",
              "      <td>16995</td>\n",
              "      <td>2007.0</td>\n",
              "      <td>gmc</td>\n",
              "      <td>sierra classic 2500hd</td>\n",
              "      <td>good</td>\n",
              "      <td>8 cylinders</td>\n",
              "      <td>diesel</td>\n",
              "      <td>254217.0</td>\n",
              "      <td>clean</td>\n",
              "      <td>automatic</td>\n",
              "      <td>4wd</td>\n",
              "      <td>truck</td>\n",
              "      <td>white</td>\n",
              "      <td>mn</td>\n",
              "    </tr>\n",
              "    <tr>\n",
              "      <th>5</th>\n",
              "      <td>13995</td>\n",
              "      <td>2012.0</td>\n",
              "      <td>ford</td>\n",
              "      <td>f-150</td>\n",
              "      <td>good</td>\n",
              "      <td>6 cylinders</td>\n",
              "      <td>gas</td>\n",
              "      <td>188406.0</td>\n",
              "      <td>clean</td>\n",
              "      <td>automatic</td>\n",
              "      <td>4wd</td>\n",
              "      <td>truck</td>\n",
              "      <td>grey</td>\n",
              "      <td>mn</td>\n",
              "    </tr>\n",
              "  </tbody>\n",
              "</table>\n",
              "</div>"
            ],
            "text/plain": [
              "   price    year manufacturer  ...   type paint_color state\n",
              "0   6995  2000.0          gmc  ...    NaN         red    mn\n",
              "1   8750  2013.0      hyundai  ...    NaN        grey    mn\n",
              "2  10900  2013.0       toyota  ...    NaN        blue    ct\n",
              "4  16995  2007.0          gmc  ...  truck       white    mn\n",
              "5  13995  2012.0         ford  ...  truck        grey    mn\n",
              "\n",
              "[5 rows x 14 columns]"
            ]
          },
          "metadata": {
            "tags": []
          },
          "execution_count": 105
        }
      ]
    },
    {
      "cell_type": "code",
      "metadata": {
        "colab": {
          "base_uri": "https://localhost:8080/",
          "height": 480
        },
        "id": "WNt9ZllZpgbn",
        "outputId": "d674bb6a-6ce3-45ab-8740-ddd05d136526"
      },
      "source": [
        "null_values=df.isnull().sum()\n",
        "null_values=pd.DataFrame(null_values,columns=['null'])\n",
        "j=1\n",
        "sum_tot=len(df)\n",
        "null_values['percent']=null_values['null']/sum_tot\n",
        "round(null_values*100,3).sort_values('percent',ascending=False)\n"
      ],
      "execution_count": null,
      "outputs": [
        {
          "output_type": "execute_result",
          "data": {
            "text/html": [
              "<div>\n",
              "<style scoped>\n",
              "    .dataframe tbody tr th:only-of-type {\n",
              "        vertical-align: middle;\n",
              "    }\n",
              "\n",
              "    .dataframe tbody tr th {\n",
              "        vertical-align: top;\n",
              "    }\n",
              "\n",
              "    .dataframe thead th {\n",
              "        text-align: right;\n",
              "    }\n",
              "</style>\n",
              "<table border=\"1\" class=\"dataframe\">\n",
              "  <thead>\n",
              "    <tr style=\"text-align: right;\">\n",
              "      <th></th>\n",
              "      <th>null</th>\n",
              "      <th>percent</th>\n",
              "    </tr>\n",
              "  </thead>\n",
              "  <tbody>\n",
              "    <tr>\n",
              "      <th>cylinders</th>\n",
              "      <td>6542000</td>\n",
              "      <td>32.200</td>\n",
              "    </tr>\n",
              "    <tr>\n",
              "      <th>paint_color</th>\n",
              "      <td>4890300</td>\n",
              "      <td>24.070</td>\n",
              "    </tr>\n",
              "    <tr>\n",
              "      <th>drive</th>\n",
              "      <td>4663500</td>\n",
              "      <td>22.954</td>\n",
              "    </tr>\n",
              "    <tr>\n",
              "      <th>type</th>\n",
              "      <td>3843500</td>\n",
              "      <td>18.918</td>\n",
              "    </tr>\n",
              "    <tr>\n",
              "      <th>price</th>\n",
              "      <td>0</td>\n",
              "      <td>0.000</td>\n",
              "    </tr>\n",
              "    <tr>\n",
              "      <th>year</th>\n",
              "      <td>0</td>\n",
              "      <td>0.000</td>\n",
              "    </tr>\n",
              "    <tr>\n",
              "      <th>manufacturer</th>\n",
              "      <td>0</td>\n",
              "      <td>0.000</td>\n",
              "    </tr>\n",
              "    <tr>\n",
              "      <th>model</th>\n",
              "      <td>0</td>\n",
              "      <td>0.000</td>\n",
              "    </tr>\n",
              "    <tr>\n",
              "      <th>condition</th>\n",
              "      <td>0</td>\n",
              "      <td>0.000</td>\n",
              "    </tr>\n",
              "    <tr>\n",
              "      <th>fuel</th>\n",
              "      <td>0</td>\n",
              "      <td>0.000</td>\n",
              "    </tr>\n",
              "    <tr>\n",
              "      <th>odometer</th>\n",
              "      <td>0</td>\n",
              "      <td>0.000</td>\n",
              "    </tr>\n",
              "    <tr>\n",
              "      <th>title_status</th>\n",
              "      <td>0</td>\n",
              "      <td>0.000</td>\n",
              "    </tr>\n",
              "    <tr>\n",
              "      <th>transmission</th>\n",
              "      <td>0</td>\n",
              "      <td>0.000</td>\n",
              "    </tr>\n",
              "    <tr>\n",
              "      <th>state</th>\n",
              "      <td>0</td>\n",
              "      <td>0.000</td>\n",
              "    </tr>\n",
              "  </tbody>\n",
              "</table>\n",
              "</div>"
            ],
            "text/plain": [
              "                 null  percent\n",
              "cylinders     6542000   32.200\n",
              "paint_color   4890300   24.070\n",
              "drive         4663500   22.954\n",
              "type          3843500   18.918\n",
              "price               0    0.000\n",
              "year                0    0.000\n",
              "manufacturer        0    0.000\n",
              "model               0    0.000\n",
              "condition           0    0.000\n",
              "fuel                0    0.000\n",
              "odometer            0    0.000\n",
              "title_status        0    0.000\n",
              "transmission        0    0.000\n",
              "state               0    0.000"
            ]
          },
          "metadata": {
            "tags": []
          },
          "execution_count": 106
        }
      ]
    },
    {
      "cell_type": "code",
      "metadata": {
        "id": "lC7i5I8Tpgep"
      },
      "source": [
        "df['paint_color'] = df['paint_color'].fillna(method='ffill')\n",
        "df['drive'] = df['drive'].fillna(method='ffill')\n",
        "df['type'] = df['type'].fillna(method='ffill')\n",
        "df['cylinders'] = df['cylinders'].fillna(method='ffill')"
      ],
      "execution_count": null,
      "outputs": []
    },
    {
      "cell_type": "code",
      "metadata": {
        "colab": {
          "base_uri": "https://localhost:8080/"
        },
        "id": "2i5sHOzRvxBy",
        "outputId": "84101cb8-86a2-4841-92a9-7186d7476211"
      },
      "source": [
        "df.isnull().sum()"
      ],
      "execution_count": null,
      "outputs": [
        {
          "output_type": "execute_result",
          "data": {
            "text/plain": [
              "price           0\n",
              "year            0\n",
              "manufacturer    0\n",
              "model           0\n",
              "condition       0\n",
              "cylinders       0\n",
              "fuel            0\n",
              "odometer        0\n",
              "title_status    0\n",
              "transmission    0\n",
              "drive           0\n",
              "type            0\n",
              "paint_color     0\n",
              "state           0\n",
              "dtype: int64"
            ]
          },
          "metadata": {
            "tags": []
          },
          "execution_count": 113
        }
      ]
    },
    {
      "cell_type": "code",
      "metadata": {
        "id": "qy8Tl_KjvxD7"
      },
      "source": [
        "df=df.dropna(subset=['type'])"
      ],
      "execution_count": null,
      "outputs": []
    },
    {
      "cell_type": "code",
      "metadata": {
        "colab": {
          "base_uri": "https://localhost:8080/"
        },
        "id": "lIhxlacNvxHB",
        "outputId": "18e458c9-438d-4536-8e50-c8e1716f84e2"
      },
      "source": [
        "df.isnull().sum()"
      ],
      "execution_count": null,
      "outputs": [
        {
          "output_type": "execute_result",
          "data": {
            "text/plain": [
              "price           0\n",
              "year            0\n",
              "manufacturer    0\n",
              "model           0\n",
              "condition       0\n",
              "cylinders       0\n",
              "fuel            0\n",
              "odometer        0\n",
              "title_status    0\n",
              "transmission    0\n",
              "drive           0\n",
              "type            0\n",
              "paint_color     0\n",
              "state           0\n",
              "dtype: int64"
            ]
          },
          "metadata": {
            "tags": []
          },
          "execution_count": 115
        }
      ]
    },
    {
      "cell_type": "code",
      "metadata": {
        "id": "mSPJE8NownW8"
      },
      "source": [
        "### EXPLORATORY DATA ANALYSIS"
      ],
      "execution_count": null,
      "outputs": []
    },
    {
      "cell_type": "code",
      "metadata": {
        "colab": {
          "base_uri": "https://localhost:8080/",
          "height": 567
        },
        "id": "irARloBawnZW",
        "outputId": "ab9afb32-7b00-469a-f428-bee3227fbeeb"
      },
      "source": [
        "from scipy import stats\n",
        "sns.pairplot(df)"
      ],
      "execution_count": null,
      "outputs": [
        {
          "output_type": "execute_result",
          "data": {
            "text/plain": [
              "<seaborn.axisgrid.PairGrid at 0x7f52d243e750>"
            ]
          },
          "metadata": {
            "tags": []
          },
          "execution_count": 118
        },
        {
          "output_type": "display_data",
          "data": {
            "image/png": "[encoded data removed]",
            "text/plain": [
              "<Figure size 540x540 with 12 Axes>"
            ]
          },
          "metadata": {
            "tags": [],
            "needs_background": "light"
          }
        }
      ]
    },
    {
      "cell_type": "code",
      "metadata": {
        "colab": {
          "base_uri": "https://localhost:8080/"
        },
        "id": "ePesmdUdwnb9",
        "outputId": "0e1ec341-e30d-4a60-87b5-168ad901d22f"
      },
      "source": [
        "df.info()"
      ],
      "execution_count": null,
      "outputs": [
        {
          "output_type": "stream",
          "text": [
            "<class 'pandas.core.frame.DataFrame'>\n",
            "Int64Index: 203166 entries, 4 to 423856\n",
            "Data columns (total 14 columns):\n",
            " #   Column        Non-Null Count   Dtype  \n",
            "---  ------        --------------   -----  \n",
            " 0   price         203166 non-null  int64  \n",
            " 1   year          203166 non-null  float64\n",
            " 2   manufacturer  203166 non-null  object \n",
            " 3   model         203166 non-null  object \n",
            " 4   condition     203166 non-null  object \n",
            " 5   cylinders     203166 non-null  object \n",
            " 6   fuel          203166 non-null  object \n",
            " 7   odometer      203166 non-null  float64\n",
            " 8   title_status  203166 non-null  object \n",
            " 9   transmission  203166 non-null  object \n",
            " 10  drive         203166 non-null  object \n",
            " 11  type          203166 non-null  object \n",
            " 12  paint_color   203166 non-null  object \n",
            " 13  state         203166 non-null  object \n",
            "dtypes: float64(2), int64(1), object(11)\n",
            "memory usage: 23.3+ MB\n"
          ],
          "name": "stdout"
        }
      ]
    },
    {
      "cell_type": "code",
      "metadata": {
        "colab": {
          "base_uri": "https://localhost:8080/"
        },
        "id": "aZFLoM1gwneB",
        "outputId": "12fd398b-0bf6-4375-9780-d669ebb33fbd"
      },
      "source": [
        "c=df.columns\n",
        "for i in c:\n",
        "    print(df[i].value_counts())"
      ],
      "execution_count": null,
      "outputs": [
        {
          "output_type": "stream",
          "text": [
            "7995     2595\n",
            "8995     2523\n",
            "6995     2385\n",
            "9995     2371\n",
            "5995     2241\n",
            "         ... \n",
            "22223       1\n",
            "30539       1\n",
            "12224       1\n",
            "10177       1\n",
            "18441       1\n",
            "Name: price, Length: 9848, dtype: int64\n",
            "2017.0    17491\n",
            "2013.0    15158\n",
            "2014.0    14567\n",
            "2015.0    13649\n",
            "2012.0    13545\n",
            "          ...  \n",
            "1961.0       10\n",
            "1959.0       10\n",
            "1951.0        8\n",
            "1954.0        7\n",
            "1952.0        4\n",
            "Name: year, Length: 71, dtype: int64\n",
            "ford               35600\n",
            "chevrolet          28240\n",
            "toyota             17338\n",
            "honda              13862\n",
            "nissan             12522\n",
            "jeep                9159\n",
            "dodge               8035\n",
            "gmc                 7110\n",
            "hyundai             6439\n",
            "subaru              6339\n",
            "bmw                 5496\n",
            "ram                 5475\n",
            "volkswagen          5354\n",
            "kia                 5135\n",
            "mercedes-benz       4434\n",
            "chrysler            4162\n",
            "buick               3343\n",
            "mazda               3029\n",
            "cadillac            2900\n",
            "lexus               2786\n",
            "audi                2245\n",
            "acura               2053\n",
            "lincoln             1815\n",
            "infiniti            1575\n",
            "pontiac             1499\n",
            "volvo               1432\n",
            "mitsubishi          1376\n",
            "mini                1049\n",
            "mercury              943\n",
            "saturn               780\n",
            "rover                564\n",
            "jaguar               445\n",
            "fiat                 412\n",
            "alfa-romeo            96\n",
            "harley-davidson       69\n",
            "datsun                33\n",
            "tesla                 12\n",
            "land rover             7\n",
            "porche                 2\n",
            "morgan                 1\n",
            "Name: manufacturer, dtype: int64\n",
            "f-150                       3221\n",
            "escape                      2434\n",
            "silverado 1500              2178\n",
            "camry                       2049\n",
            "accord                      1829\n",
            "                            ... \n",
            "grand prix base                1\n",
            "explorer limited edition       1\n",
            "mmentero sport                 1\n",
            "m30                            1\n",
            "ats 4 2.0 t                    1\n",
            "Name: model, Length: 14932, dtype: int64\n",
            "good         64816\n",
            "excellent    60165\n",
            "like new     40063\n",
            "salvage      21506\n",
            "fair         11198\n",
            "new           5418\n",
            "Name: condition, dtype: int64\n",
            "4 cylinders     79084\n",
            "6 cylinders     73859\n",
            "8 cylinders     46434\n",
            "5 cylinders      1955\n",
            "10 cylinders      831\n",
            "other             515\n",
            "3 cylinders       378\n",
            "12 cylinders      110\n",
            "Name: cylinders, dtype: int64\n",
            "gas         184970\n",
            "diesel        9023\n",
            "other         5799\n",
            "hybrid        2856\n",
            "electric       518\n",
            "Name: fuel, dtype: int64\n",
            "150000.0    649\n",
            "140000.0    622\n",
            "130000.0    604\n",
            "160000.0    602\n",
            "170000.0    563\n",
            "           ... \n",
            "83201.0       1\n",
            "91727.0       1\n",
            "90596.0       1\n",
            "33280.0       1\n",
            "113863.0      1\n",
            "Name: odometer, Length: 73952, dtype: int64\n",
            "clean         195185\n",
            "rebuilt         4396\n",
            "salvage         2174\n",
            "lien            1226\n",
            "missing          137\n",
            "parts only        48\n",
            "Name: title_status, dtype: int64\n",
            "automatic    183739\n",
            "manual        12489\n",
            "other          6938\n",
            "Name: transmission, dtype: int64\n",
            "fwd    91011\n",
            "4wd    78561\n",
            "rwd    33594\n",
            "Name: drive, dtype: int64\n",
            "sedan          61139\n",
            "SUV            55680\n",
            "truck          16263\n",
            "pickup         15900\n",
            "coupe           9995\n",
            "other           9755\n",
            "hatchback       9244\n",
            "wagon           8174\n",
            "van             6797\n",
            "mini-van        5213\n",
            "convertible     4499\n",
            "offroad          354\n",
            "bus              153\n",
            "Name: type, dtype: int64\n",
            "white     48761\n",
            "black     39499\n",
            "silver    32168\n",
            "blue      22568\n",
            "grey      20910\n",
            "red       20275\n",
            "custom     5931\n",
            "green      5424\n",
            "brown      4526\n",
            "yellow     1342\n",
            "orange     1142\n",
            "purple      620\n",
            "Name: paint_color, dtype: int64\n",
            "ca    17640\n",
            "fl    12919\n",
            "mi     9803\n",
            "oh     9763\n",
            "ny     9021\n",
            "tx     8953\n",
            "wi     7870\n",
            "nc     6929\n",
            "pa     6826\n",
            "or     6289\n",
            "nj     6018\n",
            "va     5959\n",
            "tn     5786\n",
            "co     5709\n",
            "ia     5231\n",
            "wa     4797\n",
            "id     4559\n",
            "mt     4389\n",
            "il     4181\n",
            "ma     4174\n",
            "mn     4136\n",
            "in     3586\n",
            "ct     3159\n",
            "sc     2952\n",
            "ok     2896\n",
            "al     2835\n",
            "ky     2786\n",
            "ks     2771\n",
            "md     2637\n",
            "ak     2612\n",
            "az     2507\n",
            "mo     2402\n",
            "ga     2305\n",
            "ar     1833\n",
            "nm     1645\n",
            "nh     1566\n",
            "nv     1552\n",
            "ri     1468\n",
            "me     1418\n",
            "vt     1416\n",
            "dc     1322\n",
            "la     1265\n",
            "hi      952\n",
            "sd      917\n",
            "ms      748\n",
            "ne      746\n",
            "ut      548\n",
            "de      447\n",
            "wy      346\n",
            "wv      294\n",
            "nd      283\n",
            "Name: state, dtype: int64\n"
          ],
          "name": "stdout"
        }
      ]
    },
    {
      "cell_type": "code",
      "metadata": {
        "colab": {
          "base_uri": "https://localhost:8080/",
          "height": 279
        },
        "id": "vTfVtZA8wnhL",
        "outputId": "f37df683-76ad-45be-aaf3-c540dbc752e6"
      },
      "source": [
        "ax = sns.barplot(x=\"condition\", y=\"price\", data=df)"
      ],
      "execution_count": null,
      "outputs": [
        {
          "output_type": "display_data",
          "data": {
            "image/png": "[encoded data removed]",
            "text/plain": [
              "<Figure size 432x288 with 1 Axes>"
            ]
          },
          "metadata": {
            "tags": [],
            "needs_background": "light"
          }
        }
      ]
    },
    {
      "cell_type": "code",
      "metadata": {
        "id": "JuHvBtQRxzIi"
      },
      "source": [
        "### new condition --> higher price \n",
        "### price depends directly on condition"
      ],
      "execution_count": null,
      "outputs": []
    },
    {
      "cell_type": "code",
      "metadata": {
        "colab": {
          "base_uri": "https://localhost:8080/",
          "height": 400
        },
        "id": "7TGrRj7CxzKx",
        "outputId": "0136260a-b9c2-4a36-ab84-5d5e8b109f23"
      },
      "source": [
        "## plot relation between cylinders and price\n",
        "sns.catplot(y=\"cylinders\", x=\"price\",kind = \"violin\", data=df)"
      ],
      "execution_count": null,
      "outputs": [
        {
          "output_type": "execute_result",
          "data": {
            "text/plain": [
              "<seaborn.axisgrid.FacetGrid at 0x7f52bbf67510>"
            ]
          },
          "metadata": {
            "tags": []
          },
          "execution_count": 128
        },
        {
          "output_type": "display_data",
          "data": {
            "image/png": "[encoded data removed]",
            "text/plain": [
              "<Figure size 360x360 with 1 Axes>"
            ]
          },
          "metadata": {
            "tags": [],
            "needs_background": "light"
          }
        }
      ]
    },
    {
      "cell_type": "code",
      "metadata": {
        "colab": {
          "base_uri": "https://localhost:8080/",
          "height": 400
        },
        "id": "BwfntEYRxzNX",
        "outputId": "ba42aca8-7ecb-49e0-8dee-c52e92a30017"
      },
      "source": [
        "sns.catplot(x=\"fuel\", y=\"price\", kind=\"boxen\",\n",
        "            data=df)"
      ],
      "execution_count": null,
      "outputs": [
        {
          "output_type": "execute_result",
          "data": {
            "text/plain": [
              "<seaborn.axisgrid.FacetGrid at 0x7f52bb708350>"
            ]
          },
          "metadata": {
            "tags": []
          },
          "execution_count": 129
        },
        {
          "output_type": "display_data",
          "data": {
            "image/png": "[encoded data removed]",
            "text/plain": [
              "<Figure size 360x360 with 1 Axes>"
            ]
          },
          "metadata": {
            "tags": [],
            "needs_background": "light"
          }
        }
      ]
    },
    {
      "cell_type": "code",
      "metadata": {
        "id": "W9Md8STMxzPY"
      },
      "source": [
        "## diesel = 11k to 24k\n",
        "## gas = 5k to 17k\n",
        "## electric fuel = 10k to 19k\n",
        "## hybrid = 6k to 15k\n",
        "## other = 10k to 20k"
      ],
      "execution_count": null,
      "outputs": []
    },
    {
      "cell_type": "code",
      "metadata": {
        "colab": {
          "base_uri": "https://localhost:8080/",
          "height": 401
        },
        "id": "nFpcYxMTxzSg",
        "outputId": "0650a014-2734-496e-aac8-48c8cdd4298d"
      },
      "source": [
        "sns.catplot(x=\"title_status\", y=\"price\",kind=\"violin\", data=df)"
      ],
      "execution_count": null,
      "outputs": [
        {
          "output_type": "execute_result",
          "data": {
            "text/plain": [
              "<seaborn.axisgrid.FacetGrid at 0x7f52bb708410>"
            ]
          },
          "metadata": {
            "tags": []
          },
          "execution_count": 131
        },
        {
          "output_type": "display_data",
          "data": {
            "image/png": "[encoded data removed]",
            "text/plain": [
              "<Figure size 360x360 with 1 Axes>"
            ]
          },
          "metadata": {
            "tags": [],
            "needs_background": "light"
          }
        }
      ]
    },
    {
      "cell_type": "code",
      "metadata": {
        "colab": {
          "base_uri": "https://localhost:8080/",
          "height": 400
        },
        "id": "_7IFP0zXz1gQ",
        "outputId": "ba2a372d-e33c-48d6-d6be-dc892a8442d6"
      },
      "source": [
        "sns.catplot(x=\"transmission\", y=\"price\",kind=\"bar\", palette=\"ch:.25\", data=df)"
      ],
      "execution_count": null,
      "outputs": [
        {
          "output_type": "execute_result",
          "data": {
            "text/plain": [
              "<seaborn.axisgrid.FacetGrid at 0x7f52b877a910>"
            ]
          },
          "metadata": {
            "tags": []
          },
          "execution_count": 132
        },
        {
          "output_type": "display_data",
          "data": {
            "image/png": "[encoded data removed]",
            "text/plain": [
              "<Figure size 360x360 with 1 Axes>"
            ]
          },
          "metadata": {
            "tags": [],
            "needs_background": "light"
          }
        }
      ]
    },
    {
      "cell_type": "code",
      "metadata": {
        "colab": {
          "base_uri": "https://localhost:8080/",
          "height": 282
        },
        "id": "RGCxpV60z1i5",
        "outputId": "b2dc8e11-7165-4bc4-f089-9372b55f6a72"
      },
      "source": [
        "sns.violinplot(x=df.drive, y=df.price);"
      ],
      "execution_count": null,
      "outputs": [
        {
          "output_type": "display_data",
          "data": {
            "image/png": "[encoded data removed]",
            "text/plain": [
              "<Figure size 432x288 with 1 Axes>"
            ]
          },
          "metadata": {
            "tags": [],
            "needs_background": "light"
          }
        }
      ]
    },
    {
      "cell_type": "code",
      "metadata": {
        "id": "GDtFZFqcz1k1"
      },
      "source": [
        "## 4wd and rwd seem similar\n",
        "## fwd is different"
      ],
      "execution_count": null,
      "outputs": []
    },
    {
      "cell_type": "code",
      "metadata": {
        "colab": {
          "base_uri": "https://localhost:8080/",
          "height": 383
        },
        "id": "MF-3e27Rz1mn",
        "outputId": "26454800-b8c0-43c5-a2eb-82815b6b26ec"
      },
      "source": [
        "sns.catplot(y=\"type\", x=\"price\",kind=\"boxen\", data=df);"
      ],
      "execution_count": null,
      "outputs": [
        {
          "output_type": "display_data",
          "data": {
            "image/png": "[encoded data removed]",
            "text/plain": [
              "<Figure size 360x360 with 1 Axes>"
            ]
          },
          "metadata": {
            "tags": [],
            "needs_background": "light"
          }
        }
      ]
    },
    {
      "cell_type": "code",
      "metadata": {
        "colab": {
          "base_uri": "https://localhost:8080/",
          "height": 383
        },
        "id": "AdkeDw6b0bem",
        "outputId": "218afbb9-96c5-4a6d-adcb-e27fbcbd5729"
      },
      "source": [
        "sns.catplot(y=\"paint_color\", x=\"price\",kind=\"violin\", data=df);"
      ],
      "execution_count": null,
      "outputs": [
        {
          "output_type": "display_data",
          "data": {
            "image/png": "[encoded data removed]",
            "text/plain": [
              "<Figure size 360x360 with 1 Axes>"
            ]
          },
          "metadata": {
            "tags": [],
            "needs_background": "light"
          }
        }
      ]
    },
    {
      "cell_type": "code",
      "metadata": {
        "colab": {
          "base_uri": "https://localhost:8080/",
          "height": 383
        },
        "id": "4DjZs2MR0bgu",
        "outputId": "7cb3985f-9e91-4819-e4e0-ecb09ca207e3"
      },
      "source": [
        "sns.catplot(y=\"manufacturer\", x=\"price\",kind=\"box\", data=df);"
      ],
      "execution_count": null,
      "outputs": [
        {
          "output_type": "display_data",
          "data": {
            "image/png": "[encoded data removed]",
            "text/plain": [
              "<Figure size 360x360 with 1 Axes>"
            ]
          },
          "metadata": {
            "tags": [],
            "needs_background": "light"
          }
        }
      ]
    },
    {
      "cell_type": "code",
      "metadata": {
        "id": "wNJqcyj50bjP"
      },
      "source": [
        "## LABEL PROCESSING\n",
        "\n"
      ],
      "execution_count": null,
      "outputs": []
    },
    {
      "cell_type": "code",
      "metadata": {
        "id": "km_ILw110boC"
      },
      "source": [
        "from sklearn import preprocessing\n",
        "import pandas as pd\n",
        "le = preprocessing.LabelEncoder()"
      ],
      "execution_count": null,
      "outputs": []
    },
    {
      "cell_type": "code",
      "metadata": {
        "colab": {
          "base_uri": "https://localhost:8080/"
        },
        "id": "WaBKVRArz1p8",
        "outputId": "51501299-4f42-49de-f465-fb4715224a90"
      },
      "source": [
        "df.columns"
      ],
      "execution_count": null,
      "outputs": [
        {
          "output_type": "execute_result",
          "data": {
            "text/plain": [
              "Index(['price', 'year', 'manufacturer', 'model', 'condition', 'cylinders',\n",
              "       'fuel', 'odometer', 'title_status', 'transmission', 'drive', 'type',\n",
              "       'paint_color', 'state'],\n",
              "      dtype='object')"
            ]
          },
          "metadata": {
            "tags": []
          },
          "execution_count": 138
        }
      ]
    },
    {
      "cell_type": "code",
      "metadata": {
        "id": "cHJFnL4O3N2k"
      },
      "source": [
        "df[['manufacturer', 'model', 'condition', 'cylinders',\n",
        "'fuel', 'title_status', 'transmission', 'drive', 'type',\n",
        "       'paint_color', 'state']] = df[['manufacturer', 'model', 'condition', 'cylinders',\n",
        "'fuel', 'title_status', 'transmission', 'drive', 'type',\n",
        "       'paint_color', 'state']].apply(le.fit_transform)"
      ],
      "execution_count": null,
      "outputs": []
    },
    {
      "cell_type": "code",
      "metadata": {
        "id": "6QPqdkJm3N4w"
      },
      "source": [
        "## SPLIT TRAIN AND TEST DATA\n",
        "\n",
        "from sklearn import datasets, linear_model\n",
        "from sklearn.model_selection import train_test_split\n",
        "from matplotlib import pyplot as plt"
      ],
      "execution_count": null,
      "outputs": []
    },
    {
      "cell_type": "code",
      "metadata": {
        "id": "VtBQwGPh3N7H"
      },
      "source": [
        "y= df.price\n",
        "x= df.drop('price', axis=1)"
      ],
      "execution_count": null,
      "outputs": []
    },
    {
      "cell_type": "code",
      "metadata": {
        "id": "XnjXThHL4OVz"
      },
      "source": [
        "X_train, X_test, y_train, y_test = train_test_split(x, y, test_size=0.2, random_state=42)"
      ],
      "execution_count": null,
      "outputs": []
    },
    {
      "cell_type": "code",
      "metadata": {
        "colab": {
          "base_uri": "https://localhost:8080/"
        },
        "id": "srJozAKR4OX_",
        "outputId": "2dc1c60e-5c91-4bfe-c45c-57a4a4b79360"
      },
      "source": [
        "print (X_train.shape, y_train.shape)\n",
        "print (X_test.shape, y_test.shape)"
      ],
      "execution_count": null,
      "outputs": [
        {
          "output_type": "stream",
          "text": [
            "(162532, 13) (162532,)\n",
            "(40634, 13) (40634,)\n"
          ],
          "name": "stdout"
        }
      ]
    },
    {
      "cell_type": "code",
      "metadata": {
        "id": "gvLYetWU4Oah"
      },
      "source": [
        "## TRAINING MODEL\n",
        "\n",
        "## RANDOM FOREST"
      ],
      "execution_count": null,
      "outputs": []
    },
    {
      "cell_type": "code",
      "metadata": {
        "id": "Lo-9jcwZ4Ocn"
      },
      "source": [
        "from sklearn.ensemble import RandomForestRegressor\n",
        "\n",
        "regressor = RandomForestRegressor(n_estimators=100, random_state=0)\n",
        "regressor.fit(X_train, y_train)\n",
        "y_pred = regressor.predict(X_test)"
      ],
      "execution_count": null,
      "outputs": []
    },
    {
      "cell_type": "code",
      "metadata": {
        "id": "Zf_4kvmQ4OfT"
      },
      "source": [
        "from sklearn import metrics\n",
        "from sklearn.metrics import mean_squared_error as MSE"
      ],
      "execution_count": null,
      "outputs": []
    },
    {
      "cell_type": "code",
      "metadata": {
        "colab": {
          "base_uri": "https://localhost:8080/"
        },
        "id": "01a-6JDH4OiC",
        "outputId": "d1e06e2a-0bdb-4800-b283-9ebc713bfb31"
      },
      "source": [
        "print('Mean Absolute Error:', round(metrics.mean_absolute_error(y_test, y_pred),2))\n",
        "print('Mean Squared Error:', round(metrics.mean_squared_error(y_test, y_pred),2))\n",
        "print('Root Mean Squared Error:', round(np.sqrt(metrics.mean_squared_error(y_test, y_pred)),2))\n",
        "print(regressor.score(X_test,y_test)*100)"
      ],
      "execution_count": null,
      "outputs": [
        {
          "output_type": "stream",
          "text": [
            "Mean Absolute Error: 1829.44\n",
            "Mean Squared Error: 8853810.45\n",
            "Root Mean Squared Error: 2975.54\n",
            "84.46988597055778\n"
          ],
          "name": "stdout"
        }
      ]
    },
    {
      "cell_type": "markdown",
      "metadata": {
        "id": "DEypINyC6NRB"
      },
      "source": [
        "The accuracy is 84.47%"
      ]
    },
    {
      "cell_type": "code",
      "metadata": {
        "colab": {
          "base_uri": "https://localhost:8080/",
          "height": 417
        },
        "id": "7JMYcZvw9PDk",
        "outputId": "4abe0e1b-71ac-4f80-c5e2-8826b89534aa"
      },
      "source": [
        "X_test"
      ],
      "execution_count": null,
      "outputs": [
        {
          "output_type": "execute_result",
          "data": {
            "text/html": [
              "<div>\n",
              "<style scoped>\n",
              "    .dataframe tbody tr th:only-of-type {\n",
              "        vertical-align: middle;\n",
              "    }\n",
              "\n",
              "    .dataframe tbody tr th {\n",
              "        vertical-align: top;\n",
              "    }\n",
              "\n",
              "    .dataframe thead th {\n",
              "        text-align: right;\n",
              "    }\n",
              "</style>\n",
              "<table border=\"1\" class=\"dataframe\">\n",
              "  <thead>\n",
              "    <tr style=\"text-align: right;\">\n",
              "      <th></th>\n",
              "      <th>year</th>\n",
              "      <th>manufacturer</th>\n",
              "      <th>model</th>\n",
              "      <th>condition</th>\n",
              "      <th>cylinders</th>\n",
              "      <th>fuel</th>\n",
              "      <th>odometer</th>\n",
              "      <th>title_status</th>\n",
              "      <th>transmission</th>\n",
              "      <th>drive</th>\n",
              "      <th>type</th>\n",
              "      <th>paint_color</th>\n",
              "      <th>state</th>\n",
              "    </tr>\n",
              "  </thead>\n",
              "  <tbody>\n",
              "    <tr>\n",
              "      <th>278400</th>\n",
              "      <td>2005.0</td>\n",
              "      <td>18</td>\n",
              "      <td>14304</td>\n",
              "      <td>3</td>\n",
              "      <td>3</td>\n",
              "      <td>2</td>\n",
              "      <td>144000.0</td>\n",
              "      <td>0</td>\n",
              "      <td>1</td>\n",
              "      <td>0</td>\n",
              "      <td>0</td>\n",
              "      <td>2</td>\n",
              "      <td>19</td>\n",
              "    </tr>\n",
              "    <tr>\n",
              "      <th>270693</th>\n",
              "      <td>2017.0</td>\n",
              "      <td>29</td>\n",
              "      <td>11751</td>\n",
              "      <td>3</td>\n",
              "      <td>3</td>\n",
              "      <td>2</td>\n",
              "      <td>43162.0</td>\n",
              "      <td>0</td>\n",
              "      <td>0</td>\n",
              "      <td>1</td>\n",
              "      <td>9</td>\n",
              "      <td>1</td>\n",
              "      <td>14</td>\n",
              "    </tr>\n",
              "    <tr>\n",
              "      <th>140704</th>\n",
              "      <td>2019.0</td>\n",
              "      <td>6</td>\n",
              "      <td>4196</td>\n",
              "      <td>2</td>\n",
              "      <td>5</td>\n",
              "      <td>2</td>\n",
              "      <td>17675.0</td>\n",
              "      <td>0</td>\n",
              "      <td>0</td>\n",
              "      <td>0</td>\n",
              "      <td>9</td>\n",
              "      <td>9</td>\n",
              "      <td>3</td>\n",
              "    </tr>\n",
              "    <tr>\n",
              "      <th>155252</th>\n",
              "      <td>2012.0</td>\n",
              "      <td>11</td>\n",
              "      <td>7047</td>\n",
              "      <td>3</td>\n",
              "      <td>3</td>\n",
              "      <td>2</td>\n",
              "      <td>121300.0</td>\n",
              "      <td>0</td>\n",
              "      <td>0</td>\n",
              "      <td>1</td>\n",
              "      <td>4</td>\n",
              "      <td>0</td>\n",
              "      <td>13</td>\n",
              "    </tr>\n",
              "    <tr>\n",
              "      <th>279087</th>\n",
              "      <td>2015.0</td>\n",
              "      <td>14</td>\n",
              "      <td>4020</td>\n",
              "      <td>0</td>\n",
              "      <td>6</td>\n",
              "      <td>2</td>\n",
              "      <td>80842.0</td>\n",
              "      <td>0</td>\n",
              "      <td>0</td>\n",
              "      <td>1</td>\n",
              "      <td>0</td>\n",
              "      <td>0</td>\n",
              "      <td>4</td>\n",
              "    </tr>\n",
              "    <tr>\n",
              "      <th>...</th>\n",
              "      <td>...</td>\n",
              "      <td>...</td>\n",
              "      <td>...</td>\n",
              "      <td>...</td>\n",
              "      <td>...</td>\n",
              "      <td>...</td>\n",
              "      <td>...</td>\n",
              "      <td>...</td>\n",
              "      <td>...</td>\n",
              "      <td>...</td>\n",
              "      <td>...</td>\n",
              "      <td>...</td>\n",
              "      <td>...</td>\n",
              "    </tr>\n",
              "    <tr>\n",
              "      <th>291173</th>\n",
              "      <td>2013.0</td>\n",
              "      <td>14</td>\n",
              "      <td>3387</td>\n",
              "      <td>2</td>\n",
              "      <td>3</td>\n",
              "      <td>2</td>\n",
              "      <td>92374.0</td>\n",
              "      <td>0</td>\n",
              "      <td>0</td>\n",
              "      <td>1</td>\n",
              "      <td>9</td>\n",
              "      <td>1</td>\n",
              "      <td>45</td>\n",
              "    </tr>\n",
              "    <tr>\n",
              "      <th>294587</th>\n",
              "      <td>2003.0</td>\n",
              "      <td>24</td>\n",
              "      <td>11385</td>\n",
              "      <td>5</td>\n",
              "      <td>6</td>\n",
              "      <td>2</td>\n",
              "      <td>150000.0</td>\n",
              "      <td>0</td>\n",
              "      <td>0</td>\n",
              "      <td>2</td>\n",
              "      <td>9</td>\n",
              "      <td>10</td>\n",
              "      <td>19</td>\n",
              "    </tr>\n",
              "    <tr>\n",
              "      <th>391752</th>\n",
              "      <td>2013.0</td>\n",
              "      <td>11</td>\n",
              "      <td>4854</td>\n",
              "      <td>3</td>\n",
              "      <td>6</td>\n",
              "      <td>0</td>\n",
              "      <td>46000.0</td>\n",
              "      <td>0</td>\n",
              "      <td>0</td>\n",
              "      <td>2</td>\n",
              "      <td>9</td>\n",
              "      <td>1</td>\n",
              "      <td>34</td>\n",
              "    </tr>\n",
              "    <tr>\n",
              "      <th>222780</th>\n",
              "      <td>2007.0</td>\n",
              "      <td>11</td>\n",
              "      <td>9579</td>\n",
              "      <td>0</td>\n",
              "      <td>6</td>\n",
              "      <td>2</td>\n",
              "      <td>43579.0</td>\n",
              "      <td>0</td>\n",
              "      <td>0</td>\n",
              "      <td>2</td>\n",
              "      <td>2</td>\n",
              "      <td>0</td>\n",
              "      <td>4</td>\n",
              "    </tr>\n",
              "    <tr>\n",
              "      <th>86822</th>\n",
              "      <td>2017.0</td>\n",
              "      <td>6</td>\n",
              "      <td>5345</td>\n",
              "      <td>3</td>\n",
              "      <td>3</td>\n",
              "      <td>2</td>\n",
              "      <td>53379.0</td>\n",
              "      <td>0</td>\n",
              "      <td>0</td>\n",
              "      <td>1</td>\n",
              "      <td>0</td>\n",
              "      <td>1</td>\n",
              "      <td>35</td>\n",
              "    </tr>\n",
              "  </tbody>\n",
              "</table>\n",
              "<p>40634 rows × 13 columns</p>\n",
              "</div>"
            ],
            "text/plain": [
              "          year  manufacturer  model  condition  ...  drive  type  paint_color  state\n",
              "278400  2005.0            18  14304          3  ...      0     0            2     19\n",
              "270693  2017.0            29  11751          3  ...      1     9            1     14\n",
              "140704  2019.0             6   4196          2  ...      0     9            9      3\n",
              "155252  2012.0            11   7047          3  ...      1     4            0     13\n",
              "279087  2015.0            14   4020          0  ...      1     0            0      4\n",
              "...        ...           ...    ...        ...  ...    ...   ...          ...    ...\n",
              "291173  2013.0            14   3387          2  ...      1     9            1     45\n",
              "294587  2003.0            24  11385          5  ...      2     9           10     19\n",
              "391752  2013.0            11   4854          3  ...      2     9            1     34\n",
              "222780  2007.0            11   9579          0  ...      2     2            0      4\n",
              "86822   2017.0             6   5345          3  ...      1     0            1     35\n",
              "\n",
              "[40634 rows x 13 columns]"
            ]
          },
          "metadata": {
            "tags": []
          },
          "execution_count": 169
        }
      ]
    },
    {
      "cell_type": "code",
      "metadata": {
        "colab": {
          "base_uri": "https://localhost:8080/"
        },
        "id": "1x1RzwV3_nNe",
        "outputId": "e4e243c4-59d3-427b-d294-a17079b5c010"
      },
      "source": [
        "y_test"
      ],
      "execution_count": null,
      "outputs": [
        {
          "output_type": "execute_result",
          "data": {
            "text/plain": [
              "278400    10750\n",
              "270693    13990\n",
              "140704    20295\n",
              "155252     8500\n",
              "279087    16995\n",
              "          ...  \n",
              "291173     9795\n",
              "294587     4995\n",
              "391752    19995\n",
              "222780    14999\n",
              "86822     16401\n",
              "Name: price, Length: 40634, dtype: int64"
            ]
          },
          "metadata": {
            "tags": []
          },
          "execution_count": 173
        }
      ]
    },
    {
      "cell_type": "code",
      "metadata": {
        "colab": {
          "base_uri": "https://localhost:8080/",
          "height": 417
        },
        "id": "NtifKnL9_nQo",
        "outputId": "460abc92-1275-467c-d819-2014a4941a64"
      },
      "source": [
        "test_data = pd.concat([y_test, X_test], axis=1)\n",
        "test_data"
      ],
      "execution_count": null,
      "outputs": [
        {
          "output_type": "execute_result",
          "data": {
            "text/html": [
              "<div>\n",
              "<style scoped>\n",
              "    .dataframe tbody tr th:only-of-type {\n",
              "        vertical-align: middle;\n",
              "    }\n",
              "\n",
              "    .dataframe tbody tr th {\n",
              "        vertical-align: top;\n",
              "    }\n",
              "\n",
              "    .dataframe thead th {\n",
              "        text-align: right;\n",
              "    }\n",
              "</style>\n",
              "<table border=\"1\" class=\"dataframe\">\n",
              "  <thead>\n",
              "    <tr style=\"text-align: right;\">\n",
              "      <th></th>\n",
              "      <th>price</th>\n",
              "      <th>year</th>\n",
              "      <th>manufacturer</th>\n",
              "      <th>model</th>\n",
              "      <th>condition</th>\n",
              "      <th>cylinders</th>\n",
              "      <th>fuel</th>\n",
              "      <th>odometer</th>\n",
              "      <th>title_status</th>\n",
              "      <th>transmission</th>\n",
              "      <th>drive</th>\n",
              "      <th>type</th>\n",
              "      <th>paint_color</th>\n",
              "      <th>state</th>\n",
              "    </tr>\n",
              "  </thead>\n",
              "  <tbody>\n",
              "    <tr>\n",
              "      <th>278400</th>\n",
              "      <td>10750</td>\n",
              "      <td>2005.0</td>\n",
              "      <td>18</td>\n",
              "      <td>14304</td>\n",
              "      <td>3</td>\n",
              "      <td>3</td>\n",
              "      <td>2</td>\n",
              "      <td>144000.0</td>\n",
              "      <td>0</td>\n",
              "      <td>1</td>\n",
              "      <td>0</td>\n",
              "      <td>0</td>\n",
              "      <td>2</td>\n",
              "      <td>19</td>\n",
              "    </tr>\n",
              "    <tr>\n",
              "      <th>270693</th>\n",
              "      <td>13990</td>\n",
              "      <td>2017.0</td>\n",
              "      <td>29</td>\n",
              "      <td>11751</td>\n",
              "      <td>3</td>\n",
              "      <td>3</td>\n",
              "      <td>2</td>\n",
              "      <td>43162.0</td>\n",
              "      <td>0</td>\n",
              "      <td>0</td>\n",
              "      <td>1</td>\n",
              "      <td>9</td>\n",
              "      <td>1</td>\n",
              "      <td>14</td>\n",
              "    </tr>\n",
              "    <tr>\n",
              "      <th>140704</th>\n",
              "      <td>20295</td>\n",
              "      <td>2019.0</td>\n",
              "      <td>6</td>\n",
              "      <td>4196</td>\n",
              "      <td>2</td>\n",
              "      <td>5</td>\n",
              "      <td>2</td>\n",
              "      <td>17675.0</td>\n",
              "      <td>0</td>\n",
              "      <td>0</td>\n",
              "      <td>0</td>\n",
              "      <td>9</td>\n",
              "      <td>9</td>\n",
              "      <td>3</td>\n",
              "    </tr>\n",
              "    <tr>\n",
              "      <th>155252</th>\n",
              "      <td>8500</td>\n",
              "      <td>2012.0</td>\n",
              "      <td>11</td>\n",
              "      <td>7047</td>\n",
              "      <td>3</td>\n",
              "      <td>3</td>\n",
              "      <td>2</td>\n",
              "      <td>121300.0</td>\n",
              "      <td>0</td>\n",
              "      <td>0</td>\n",
              "      <td>1</td>\n",
              "      <td>4</td>\n",
              "      <td>0</td>\n",
              "      <td>13</td>\n",
              "    </tr>\n",
              "    <tr>\n",
              "      <th>279087</th>\n",
              "      <td>16995</td>\n",
              "      <td>2015.0</td>\n",
              "      <td>14</td>\n",
              "      <td>4020</td>\n",
              "      <td>0</td>\n",
              "      <td>6</td>\n",
              "      <td>2</td>\n",
              "      <td>80842.0</td>\n",
              "      <td>0</td>\n",
              "      <td>0</td>\n",
              "      <td>1</td>\n",
              "      <td>0</td>\n",
              "      <td>0</td>\n",
              "      <td>4</td>\n",
              "    </tr>\n",
              "    <tr>\n",
              "      <th>...</th>\n",
              "      <td>...</td>\n",
              "      <td>...</td>\n",
              "      <td>...</td>\n",
              "      <td>...</td>\n",
              "      <td>...</td>\n",
              "      <td>...</td>\n",
              "      <td>...</td>\n",
              "      <td>...</td>\n",
              "      <td>...</td>\n",
              "      <td>...</td>\n",
              "      <td>...</td>\n",
              "      <td>...</td>\n",
              "      <td>...</td>\n",
              "      <td>...</td>\n",
              "    </tr>\n",
              "    <tr>\n",
              "      <th>291173</th>\n",
              "      <td>9795</td>\n",
              "      <td>2013.0</td>\n",
              "      <td>14</td>\n",
              "      <td>3387</td>\n",
              "      <td>2</td>\n",
              "      <td>3</td>\n",
              "      <td>2</td>\n",
              "      <td>92374.0</td>\n",
              "      <td>0</td>\n",
              "      <td>0</td>\n",
              "      <td>1</td>\n",
              "      <td>9</td>\n",
              "      <td>1</td>\n",
              "      <td>45</td>\n",
              "    </tr>\n",
              "    <tr>\n",
              "      <th>294587</th>\n",
              "      <td>4995</td>\n",
              "      <td>2003.0</td>\n",
              "      <td>24</td>\n",
              "      <td>11385</td>\n",
              "      <td>5</td>\n",
              "      <td>6</td>\n",
              "      <td>2</td>\n",
              "      <td>150000.0</td>\n",
              "      <td>0</td>\n",
              "      <td>0</td>\n",
              "      <td>2</td>\n",
              "      <td>9</td>\n",
              "      <td>10</td>\n",
              "      <td>19</td>\n",
              "    </tr>\n",
              "    <tr>\n",
              "      <th>391752</th>\n",
              "      <td>19995</td>\n",
              "      <td>2013.0</td>\n",
              "      <td>11</td>\n",
              "      <td>4854</td>\n",
              "      <td>3</td>\n",
              "      <td>6</td>\n",
              "      <td>0</td>\n",
              "      <td>46000.0</td>\n",
              "      <td>0</td>\n",
              "      <td>0</td>\n",
              "      <td>2</td>\n",
              "      <td>9</td>\n",
              "      <td>1</td>\n",
              "      <td>34</td>\n",
              "    </tr>\n",
              "    <tr>\n",
              "      <th>222780</th>\n",
              "      <td>14999</td>\n",
              "      <td>2007.0</td>\n",
              "      <td>11</td>\n",
              "      <td>9579</td>\n",
              "      <td>0</td>\n",
              "      <td>6</td>\n",
              "      <td>2</td>\n",
              "      <td>43579.0</td>\n",
              "      <td>0</td>\n",
              "      <td>0</td>\n",
              "      <td>2</td>\n",
              "      <td>2</td>\n",
              "      <td>0</td>\n",
              "      <td>4</td>\n",
              "    </tr>\n",
              "    <tr>\n",
              "      <th>86822</th>\n",
              "      <td>16401</td>\n",
              "      <td>2017.0</td>\n",
              "      <td>6</td>\n",
              "      <td>5345</td>\n",
              "      <td>3</td>\n",
              "      <td>3</td>\n",
              "      <td>2</td>\n",
              "      <td>53379.0</td>\n",
              "      <td>0</td>\n",
              "      <td>0</td>\n",
              "      <td>1</td>\n",
              "      <td>0</td>\n",
              "      <td>1</td>\n",
              "      <td>35</td>\n",
              "    </tr>\n",
              "  </tbody>\n",
              "</table>\n",
              "<p>40634 rows × 14 columns</p>\n",
              "</div>"
            ],
            "text/plain": [
              "        price    year  manufacturer  model  ...  drive  type  paint_color  state\n",
              "278400  10750  2005.0            18  14304  ...      0     0            2     19\n",
              "270693  13990  2017.0            29  11751  ...      1     9            1     14\n",
              "140704  20295  2019.0             6   4196  ...      0     9            9      3\n",
              "155252   8500  2012.0            11   7047  ...      1     4            0     13\n",
              "279087  16995  2015.0            14   4020  ...      1     0            0      4\n",
              "...       ...     ...           ...    ...  ...    ...   ...          ...    ...\n",
              "291173   9795  2013.0            14   3387  ...      1     9            1     45\n",
              "294587   4995  2003.0            24  11385  ...      2     9           10     19\n",
              "391752  19995  2013.0            11   4854  ...      2     9            1     34\n",
              "222780  14999  2007.0            11   9579  ...      2     2            0      4\n",
              "86822   16401  2017.0             6   5345  ...      1     0            1     35\n",
              "\n",
              "[40634 rows x 14 columns]"
            ]
          },
          "metadata": {
            "tags": []
          },
          "execution_count": 177
        }
      ]
    },
    {
      "cell_type": "code",
      "metadata": {
        "colab": {
          "base_uri": "https://localhost:8080/",
          "height": 417
        },
        "id": "90SRojGIBA4_",
        "outputId": "fd4cc0f4-7ea9-4e15-ec63-1a06ef173856"
      },
      "source": [
        "train_data = pd.concat([y_train, X_train], axis=1)\n",
        "train_data"
      ],
      "execution_count": null,
      "outputs": [
        {
          "output_type": "execute_result",
          "data": {
            "text/html": [
              "<div>\n",
              "<style scoped>\n",
              "    .dataframe tbody tr th:only-of-type {\n",
              "        vertical-align: middle;\n",
              "    }\n",
              "\n",
              "    .dataframe tbody tr th {\n",
              "        vertical-align: top;\n",
              "    }\n",
              "\n",
              "    .dataframe thead th {\n",
              "        text-align: right;\n",
              "    }\n",
              "</style>\n",
              "<table border=\"1\" class=\"dataframe\">\n",
              "  <thead>\n",
              "    <tr style=\"text-align: right;\">\n",
              "      <th></th>\n",
              "      <th>price</th>\n",
              "      <th>year</th>\n",
              "      <th>manufacturer</th>\n",
              "      <th>model</th>\n",
              "      <th>condition</th>\n",
              "      <th>cylinders</th>\n",
              "      <th>fuel</th>\n",
              "      <th>odometer</th>\n",
              "      <th>title_status</th>\n",
              "      <th>transmission</th>\n",
              "      <th>drive</th>\n",
              "      <th>type</th>\n",
              "      <th>paint_color</th>\n",
              "      <th>state</th>\n",
              "    </tr>\n",
              "  </thead>\n",
              "  <tbody>\n",
              "    <tr>\n",
              "      <th>336298</th>\n",
              "      <td>21590</td>\n",
              "      <td>2018.0</td>\n",
              "      <td>14</td>\n",
              "      <td>4069</td>\n",
              "      <td>2</td>\n",
              "      <td>6</td>\n",
              "      <td>2</td>\n",
              "      <td>25467.0</td>\n",
              "      <td>0</td>\n",
              "      <td>0</td>\n",
              "      <td>0</td>\n",
              "      <td>0</td>\n",
              "      <td>1</td>\n",
              "      <td>27</td>\n",
              "    </tr>\n",
              "    <tr>\n",
              "      <th>329567</th>\n",
              "      <td>19695</td>\n",
              "      <td>2016.0</td>\n",
              "      <td>0</td>\n",
              "      <td>9276</td>\n",
              "      <td>2</td>\n",
              "      <td>5</td>\n",
              "      <td>2</td>\n",
              "      <td>107653.0</td>\n",
              "      <td>0</td>\n",
              "      <td>0</td>\n",
              "      <td>1</td>\n",
              "      <td>0</td>\n",
              "      <td>10</td>\n",
              "      <td>44</td>\n",
              "    </tr>\n",
              "    <tr>\n",
              "      <th>35199</th>\n",
              "      <td>4495</td>\n",
              "      <td>2009.0</td>\n",
              "      <td>15</td>\n",
              "      <td>12492</td>\n",
              "      <td>3</td>\n",
              "      <td>5</td>\n",
              "      <td>2</td>\n",
              "      <td>46000.0</td>\n",
              "      <td>0</td>\n",
              "      <td>0</td>\n",
              "      <td>2</td>\n",
              "      <td>4</td>\n",
              "      <td>0</td>\n",
              "      <td>9</td>\n",
              "    </tr>\n",
              "    <tr>\n",
              "      <th>365483</th>\n",
              "      <td>7200</td>\n",
              "      <td>2012.0</td>\n",
              "      <td>11</td>\n",
              "      <td>5497</td>\n",
              "      <td>0</td>\n",
              "      <td>5</td>\n",
              "      <td>2</td>\n",
              "      <td>124000.0</td>\n",
              "      <td>0</td>\n",
              "      <td>0</td>\n",
              "      <td>0</td>\n",
              "      <td>0</td>\n",
              "      <td>4</td>\n",
              "      <td>34</td>\n",
              "    </tr>\n",
              "    <tr>\n",
              "      <th>269005</th>\n",
              "      <td>23000</td>\n",
              "      <td>2015.0</td>\n",
              "      <td>37</td>\n",
              "      <td>13039</td>\n",
              "      <td>0</td>\n",
              "      <td>5</td>\n",
              "      <td>2</td>\n",
              "      <td>53000.0</td>\n",
              "      <td>4</td>\n",
              "      <td>0</td>\n",
              "      <td>0</td>\n",
              "      <td>8</td>\n",
              "      <td>5</td>\n",
              "      <td>42</td>\n",
              "    </tr>\n",
              "    <tr>\n",
              "      <th>...</th>\n",
              "      <td>...</td>\n",
              "      <td>...</td>\n",
              "      <td>...</td>\n",
              "      <td>...</td>\n",
              "      <td>...</td>\n",
              "      <td>...</td>\n",
              "      <td>...</td>\n",
              "      <td>...</td>\n",
              "      <td>...</td>\n",
              "      <td>...</td>\n",
              "      <td>...</td>\n",
              "      <td>...</td>\n",
              "      <td>...</td>\n",
              "      <td>...</td>\n",
              "    </tr>\n",
              "    <tr>\n",
              "      <th>281928</th>\n",
              "      <td>16977</td>\n",
              "      <td>2015.0</td>\n",
              "      <td>37</td>\n",
              "      <td>2989</td>\n",
              "      <td>3</td>\n",
              "      <td>3</td>\n",
              "      <td>2</td>\n",
              "      <td>71159.0</td>\n",
              "      <td>0</td>\n",
              "      <td>0</td>\n",
              "      <td>1</td>\n",
              "      <td>9</td>\n",
              "      <td>0</td>\n",
              "      <td>35</td>\n",
              "    </tr>\n",
              "    <tr>\n",
              "      <th>255538</th>\n",
              "      <td>4400</td>\n",
              "      <td>2003.0</td>\n",
              "      <td>34</td>\n",
              "      <td>8304</td>\n",
              "      <td>2</td>\n",
              "      <td>3</td>\n",
              "      <td>2</td>\n",
              "      <td>100755.0</td>\n",
              "      <td>0</td>\n",
              "      <td>0</td>\n",
              "      <td>1</td>\n",
              "      <td>9</td>\n",
              "      <td>3</td>\n",
              "      <td>38</td>\n",
              "    </tr>\n",
              "    <tr>\n",
              "      <th>301353</th>\n",
              "      <td>5400</td>\n",
              "      <td>2009.0</td>\n",
              "      <td>11</td>\n",
              "      <td>5497</td>\n",
              "      <td>2</td>\n",
              "      <td>5</td>\n",
              "      <td>2</td>\n",
              "      <td>135000.0</td>\n",
              "      <td>0</td>\n",
              "      <td>0</td>\n",
              "      <td>0</td>\n",
              "      <td>10</td>\n",
              "      <td>9</td>\n",
              "      <td>22</td>\n",
              "    </tr>\n",
              "    <tr>\n",
              "      <th>325677</th>\n",
              "      <td>19995</td>\n",
              "      <td>2012.0</td>\n",
              "      <td>18</td>\n",
              "      <td>14304</td>\n",
              "      <td>3</td>\n",
              "      <td>5</td>\n",
              "      <td>2</td>\n",
              "      <td>42236.0</td>\n",
              "      <td>0</td>\n",
              "      <td>0</td>\n",
              "      <td>0</td>\n",
              "      <td>9</td>\n",
              "      <td>8</td>\n",
              "      <td>43</td>\n",
              "    </tr>\n",
              "    <tr>\n",
              "      <th>285273</th>\n",
              "      <td>6995</td>\n",
              "      <td>2011.0</td>\n",
              "      <td>19</td>\n",
              "      <td>7158</td>\n",
              "      <td>2</td>\n",
              "      <td>3</td>\n",
              "      <td>2</td>\n",
              "      <td>92755.0</td>\n",
              "      <td>0</td>\n",
              "      <td>0</td>\n",
              "      <td>1</td>\n",
              "      <td>9</td>\n",
              "      <td>9</td>\n",
              "      <td>4</td>\n",
              "    </tr>\n",
              "  </tbody>\n",
              "</table>\n",
              "<p>162532 rows × 14 columns</p>\n",
              "</div>"
            ],
            "text/plain": [
              "        price    year  manufacturer  model  ...  drive  type  paint_color  state\n",
              "336298  21590  2018.0            14   4069  ...      0     0            1     27\n",
              "329567  19695  2016.0             0   9276  ...      1     0           10     44\n",
              "35199    4495  2009.0            15  12492  ...      2     4            0      9\n",
              "365483   7200  2012.0            11   5497  ...      0     0            4     34\n",
              "269005  23000  2015.0            37  13039  ...      0     8            5     42\n",
              "...       ...     ...           ...    ...  ...    ...   ...          ...    ...\n",
              "281928  16977  2015.0            37   2989  ...      1     9            0     35\n",
              "255538   4400  2003.0            34   8304  ...      1     9            3     38\n",
              "301353   5400  2009.0            11   5497  ...      0    10            9     22\n",
              "325677  19995  2012.0            18  14304  ...      0     9            8     43\n",
              "285273   6995  2011.0            19   7158  ...      1     9            9      4\n",
              "\n",
              "[162532 rows x 14 columns]"
            ]
          },
          "metadata": {
            "tags": []
          },
          "execution_count": 178
        }
      ]
    },
    {
      "cell_type": "code",
      "metadata": {
        "colab": {
          "base_uri": "https://localhost:8080/",
          "height": 417
        },
        "id": "-vd6OfXDBL7S",
        "outputId": "2bed5239-1bee-4967-d736-97c6f8c61605"
      },
      "source": [
        "df"
      ],
      "execution_count": null,
      "outputs": [
        {
          "output_type": "execute_result",
          "data": {
            "text/html": [
              "<div>\n",
              "<style scoped>\n",
              "    .dataframe tbody tr th:only-of-type {\n",
              "        vertical-align: middle;\n",
              "    }\n",
              "\n",
              "    .dataframe tbody tr th {\n",
              "        vertical-align: top;\n",
              "    }\n",
              "\n",
              "    .dataframe thead th {\n",
              "        text-align: right;\n",
              "    }\n",
              "</style>\n",
              "<table border=\"1\" class=\"dataframe\">\n",
              "  <thead>\n",
              "    <tr style=\"text-align: right;\">\n",
              "      <th></th>\n",
              "      <th>price</th>\n",
              "      <th>year</th>\n",
              "      <th>manufacturer</th>\n",
              "      <th>model</th>\n",
              "      <th>condition</th>\n",
              "      <th>cylinders</th>\n",
              "      <th>fuel</th>\n",
              "      <th>odometer</th>\n",
              "      <th>title_status</th>\n",
              "      <th>transmission</th>\n",
              "      <th>drive</th>\n",
              "      <th>type</th>\n",
              "      <th>paint_color</th>\n",
              "      <th>state</th>\n",
              "    </tr>\n",
              "  </thead>\n",
              "  <tbody>\n",
              "    <tr>\n",
              "      <th>4</th>\n",
              "      <td>16995</td>\n",
              "      <td>2007.0</td>\n",
              "      <td>12</td>\n",
              "      <td>12048</td>\n",
              "      <td>2</td>\n",
              "      <td>6</td>\n",
              "      <td>0</td>\n",
              "      <td>254217.0</td>\n",
              "      <td>0</td>\n",
              "      <td>0</td>\n",
              "      <td>0</td>\n",
              "      <td>10</td>\n",
              "      <td>10</td>\n",
              "      <td>23</td>\n",
              "    </tr>\n",
              "    <tr>\n",
              "      <th>5</th>\n",
              "      <td>13995</td>\n",
              "      <td>2012.0</td>\n",
              "      <td>11</td>\n",
              "      <td>5924</td>\n",
              "      <td>2</td>\n",
              "      <td>5</td>\n",
              "      <td>2</td>\n",
              "      <td>188406.0</td>\n",
              "      <td>0</td>\n",
              "      <td>0</td>\n",
              "      <td>0</td>\n",
              "      <td>10</td>\n",
              "      <td>5</td>\n",
              "      <td>23</td>\n",
              "    </tr>\n",
              "    <tr>\n",
              "      <th>6</th>\n",
              "      <td>7995</td>\n",
              "      <td>2010.0</td>\n",
              "      <td>6</td>\n",
              "      <td>5345</td>\n",
              "      <td>2</td>\n",
              "      <td>3</td>\n",
              "      <td>2</td>\n",
              "      <td>108124.0</td>\n",
              "      <td>0</td>\n",
              "      <td>0</td>\n",
              "      <td>0</td>\n",
              "      <td>0</td>\n",
              "      <td>5</td>\n",
              "      <td>23</td>\n",
              "    </tr>\n",
              "    <tr>\n",
              "      <th>7</th>\n",
              "      <td>8995</td>\n",
              "      <td>2011.0</td>\n",
              "      <td>6</td>\n",
              "      <td>13746</td>\n",
              "      <td>2</td>\n",
              "      <td>5</td>\n",
              "      <td>2</td>\n",
              "      <td>178054.0</td>\n",
              "      <td>0</td>\n",
              "      <td>0</td>\n",
              "      <td>0</td>\n",
              "      <td>0</td>\n",
              "      <td>10</td>\n",
              "      <td>23</td>\n",
              "    </tr>\n",
              "    <tr>\n",
              "      <th>8</th>\n",
              "      <td>10995</td>\n",
              "      <td>2014.0</td>\n",
              "      <td>11</td>\n",
              "      <td>5703</td>\n",
              "      <td>2</td>\n",
              "      <td>5</td>\n",
              "      <td>2</td>\n",
              "      <td>170259.0</td>\n",
              "      <td>0</td>\n",
              "      <td>0</td>\n",
              "      <td>0</td>\n",
              "      <td>0</td>\n",
              "      <td>10</td>\n",
              "      <td>23</td>\n",
              "    </tr>\n",
              "    <tr>\n",
              "      <th>...</th>\n",
              "      <td>...</td>\n",
              "      <td>...</td>\n",
              "      <td>...</td>\n",
              "      <td>...</td>\n",
              "      <td>...</td>\n",
              "      <td>...</td>\n",
              "      <td>...</td>\n",
              "      <td>...</td>\n",
              "      <td>...</td>\n",
              "      <td>...</td>\n",
              "      <td>...</td>\n",
              "      <td>...</td>\n",
              "      <td>...</td>\n",
              "      <td>...</td>\n",
              "    </tr>\n",
              "    <tr>\n",
              "      <th>423852</th>\n",
              "      <td>1600</td>\n",
              "      <td>2006.0</td>\n",
              "      <td>15</td>\n",
              "      <td>12492</td>\n",
              "      <td>1</td>\n",
              "      <td>5</td>\n",
              "      <td>2</td>\n",
              "      <td>159980.0</td>\n",
              "      <td>0</td>\n",
              "      <td>0</td>\n",
              "      <td>1</td>\n",
              "      <td>9</td>\n",
              "      <td>1</td>\n",
              "      <td>23</td>\n",
              "    </tr>\n",
              "    <tr>\n",
              "      <th>423853</th>\n",
              "      <td>9000</td>\n",
              "      <td>2003.0</td>\n",
              "      <td>37</td>\n",
              "      <td>11802</td>\n",
              "      <td>0</td>\n",
              "      <td>6</td>\n",
              "      <td>2</td>\n",
              "      <td>160000.0</td>\n",
              "      <td>0</td>\n",
              "      <td>0</td>\n",
              "      <td>0</td>\n",
              "      <td>0</td>\n",
              "      <td>4</td>\n",
              "      <td>23</td>\n",
              "    </tr>\n",
              "    <tr>\n",
              "      <th>423854</th>\n",
              "      <td>700</td>\n",
              "      <td>1994.0</td>\n",
              "      <td>11</td>\n",
              "      <td>5924</td>\n",
              "      <td>1</td>\n",
              "      <td>5</td>\n",
              "      <td>2</td>\n",
              "      <td>212000.0</td>\n",
              "      <td>0</td>\n",
              "      <td>1</td>\n",
              "      <td>2</td>\n",
              "      <td>0</td>\n",
              "      <td>4</td>\n",
              "      <td>23</td>\n",
              "    </tr>\n",
              "    <tr>\n",
              "      <th>423855</th>\n",
              "      <td>3800</td>\n",
              "      <td>1999.0</td>\n",
              "      <td>22</td>\n",
              "      <td>13543</td>\n",
              "      <td>0</td>\n",
              "      <td>6</td>\n",
              "      <td>2</td>\n",
              "      <td>160000.0</td>\n",
              "      <td>0</td>\n",
              "      <td>0</td>\n",
              "      <td>2</td>\n",
              "      <td>9</td>\n",
              "      <td>4</td>\n",
              "      <td>23</td>\n",
              "    </tr>\n",
              "    <tr>\n",
              "      <th>423856</th>\n",
              "      <td>8650</td>\n",
              "      <td>2015.0</td>\n",
              "      <td>29</td>\n",
              "      <td>14149</td>\n",
              "      <td>5</td>\n",
              "      <td>6</td>\n",
              "      <td>2</td>\n",
              "      <td>160526.0</td>\n",
              "      <td>0</td>\n",
              "      <td>0</td>\n",
              "      <td>1</td>\n",
              "      <td>9</td>\n",
              "      <td>9</td>\n",
              "      <td>32</td>\n",
              "    </tr>\n",
              "  </tbody>\n",
              "</table>\n",
              "<p>203166 rows × 14 columns</p>\n",
              "</div>"
            ],
            "text/plain": [
              "        price    year  manufacturer  model  ...  drive  type  paint_color  state\n",
              "4       16995  2007.0            12  12048  ...      0    10           10     23\n",
              "5       13995  2012.0            11   5924  ...      0    10            5     23\n",
              "6        7995  2010.0             6   5345  ...      0     0            5     23\n",
              "7        8995  2011.0             6  13746  ...      0     0           10     23\n",
              "8       10995  2014.0            11   5703  ...      0     0           10     23\n",
              "...       ...     ...           ...    ...  ...    ...   ...          ...    ...\n",
              "423852   1600  2006.0            15  12492  ...      1     9            1     23\n",
              "423853   9000  2003.0            37  11802  ...      0     0            4     23\n",
              "423854    700  1994.0            11   5924  ...      2     0            4     23\n",
              "423855   3800  1999.0            22  13543  ...      2     9            4     23\n",
              "423856   8650  2015.0            29  14149  ...      1     9            9     32\n",
              "\n",
              "[203166 rows x 14 columns]"
            ]
          },
          "metadata": {
            "tags": []
          },
          "execution_count": 179
        }
      ]
    },
    {
      "cell_type": "code",
      "metadata": {
        "id": "0DLqLDvTBX7l"
      },
      "source": [
        "test_data.to_csv('test_data.csv', index=False)"
      ],
      "execution_count": null,
      "outputs": []
    },
    {
      "cell_type": "code",
      "metadata": {
        "colab": {
          "base_uri": "https://localhost:8080/"
        },
        "id": "q9ki5ksiBsr6",
        "outputId": "130ca692-a7bb-4612-c0c3-77a45910cf6d"
      },
      "source": [
        "! ls"
      ],
      "execution_count": null,
      "outputs": [
        {
          "output_type": "stream",
          "text": [
            "drive  new_data  sample_data  test_data  test_data.csv\ttrain_data\n"
          ],
          "name": "stdout"
        }
      ]
    },
    {
      "cell_type": "code",
      "metadata": {
        "id": "hUopVB2XCF0l"
      },
      "source": [
        "train_data.to_csv('train_data.csv', index=False)"
      ],
      "execution_count": null,
      "outputs": []
    },
    {
      "cell_type": "code",
      "metadata": {
        "colab": {
          "base_uri": "https://localhost:8080/"
        },
        "id": "OntOwnrnCF20",
        "outputId": "4d1e9599-3df7-4b19-9001-48b76a822426"
      },
      "source": [
        "! ls"
      ],
      "execution_count": null,
      "outputs": [
        {
          "output_type": "stream",
          "text": [
            "drive\t  sample_data  test_data.csv  train_data.csv\n",
            "new_data  test_data    train_data\n"
          ],
          "name": "stdout"
        }
      ]
    },
    {
      "cell_type": "code",
      "metadata": {
        "id": "CAcUyUXgCF5z"
      },
      "source": [
        "df.to_csv('new_data.csv', index=False)"
      ],
      "execution_count": null,
      "outputs": []
    },
    {
      "cell_type": "code",
      "metadata": {
        "colab": {
          "base_uri": "https://localhost:8080/"
        },
        "id": "apb4jyOpCbfa",
        "outputId": "b96bfde3-47de-45ef-f5f4-dc5dbb74bb2d"
      },
      "source": [
        "! ls"
      ],
      "execution_count": null,
      "outputs": [
        {
          "output_type": "stream",
          "text": [
            "drive\t  new_data.csv\ttest_data      train_data\n",
            "new_data  sample_data\ttest_data.csv  train_data.csv\n"
          ],
          "name": "stdout"
        }
      ]
    }
  ]
}